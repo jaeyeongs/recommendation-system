{
 "cells": [
  {
   "cell_type": "markdown",
   "metadata": {},
   "source": [
    "# 블로그 설명\n",
    "\n",
    "해당 자료에 대한 설명은 아래 블로그에 올려두었습니다.\n",
    "- https://lsjsj92.tistory.com/577"
   ]
  },
  {
   "cell_type": "code",
   "execution_count": 1,
   "metadata": {},
   "outputs": [
    {
     "name": "stderr",
     "output_type": "stream",
     "text": [
      "Using TensorFlow backend.\n",
      "d:\\anaconda3\\envs\\soojin\\lib\\site-packages\\tensorflow\\python\\framework\\dtypes.py:493: FutureWarning: Passing (type, 1) or '1type' as a synonym of type is deprecated; in a future version of numpy, it will be understood as (type, (1,)) / '(1,)type'.\n",
      "  _np_qint8 = np.dtype([(\"qint8\", np.int8, 1)])\n",
      "d:\\anaconda3\\envs\\soojin\\lib\\site-packages\\tensorflow\\python\\framework\\dtypes.py:494: FutureWarning: Passing (type, 1) or '1type' as a synonym of type is deprecated; in a future version of numpy, it will be understood as (type, (1,)) / '(1,)type'.\n",
      "  _np_quint8 = np.dtype([(\"quint8\", np.uint8, 1)])\n",
      "d:\\anaconda3\\envs\\soojin\\lib\\site-packages\\tensorflow\\python\\framework\\dtypes.py:495: FutureWarning: Passing (type, 1) or '1type' as a synonym of type is deprecated; in a future version of numpy, it will be understood as (type, (1,)) / '(1,)type'.\n",
      "  _np_qint16 = np.dtype([(\"qint16\", np.int16, 1)])\n",
      "d:\\anaconda3\\envs\\soojin\\lib\\site-packages\\tensorflow\\python\\framework\\dtypes.py:496: FutureWarning: Passing (type, 1) or '1type' as a synonym of type is deprecated; in a future version of numpy, it will be understood as (type, (1,)) / '(1,)type'.\n",
      "  _np_quint16 = np.dtype([(\"quint16\", np.uint16, 1)])\n",
      "d:\\anaconda3\\envs\\soojin\\lib\\site-packages\\tensorflow\\python\\framework\\dtypes.py:497: FutureWarning: Passing (type, 1) or '1type' as a synonym of type is deprecated; in a future version of numpy, it will be understood as (type, (1,)) / '(1,)type'.\n",
      "  _np_qint32 = np.dtype([(\"qint32\", np.int32, 1)])\n",
      "d:\\anaconda3\\envs\\soojin\\lib\\site-packages\\tensorflow\\python\\framework\\dtypes.py:502: FutureWarning: Passing (type, 1) or '1type' as a synonym of type is deprecated; in a future version of numpy, it will be understood as (type, (1,)) / '(1,)type'.\n",
      "  np_resource = np.dtype([(\"resource\", np.ubyte, 1)])\n"
     ]
    }
   ],
   "source": [
    "import pandas as pd\n",
    "import pickle\n",
    "import numpy as np\n",
    "import matplotlib.pyplot as plt\n",
    "import seaborn as sns\n",
    "import random\n",
    "from sklearn.model_selection import train_test_split\n",
    "from keras.layers import Input, Dense, Concatenate, concatenate, Dropout, Reshape, dot, Dot\n",
    "from keras.models import Model\n",
    "from keras.callbacks import ModelCheckpoint, EarlyStopping\n",
    "from keras import backend as K\n",
    "from sklearn.metrics import accuracy_score, f1_score, precision_score, recall_score, classification_report, confusion_matrix, mean_squared_error\n",
    "from gensim.models.doc2vec import Doc2Vec, TaggedDocument"
   ]
  },
  {
   "cell_type": "code",
   "execution_count": 2,
   "metadata": {},
   "outputs": [],
   "source": [
    "X = np.load('./datas/X_data.npy')\n",
    "y = np.load('./datas/y_data.npy') "
   ]
  },
  {
   "cell_type": "code",
   "execution_count": 7,
   "metadata": {},
   "outputs": [],
   "source": [
    "def keras_model():\n",
    "    user_vector_input = Input(shape=(128, ))\n",
    "    \n",
    "    dense_u_v = Dense(128, activation = 'relu')(user_vector_input)\n",
    "    dense_u_v = Dropout(0.5)(dense_u_v)\n",
    "    dense_u_v = Dense(64, activation = 'relu')(dense_u_v)\n",
    "    dense_u_v = Dropout(0.5)(dense_u_v)\n",
    "    dense_u_v = Dense(32, activation = 'relu')(dense_u_v)\n",
    "    dense_u_v = Dropout(0.5)(dense_u_v)\n",
    "    dense_u_v = Dense(16, activation = 'relu')(dense_u_v)\n",
    "    dense_u_v = Dense(1, activation = 'sigmoid')(dense_u_v)\n",
    "    \n",
    "    model = Model(inputs=user_vector_input, outputs=dense_u_v)\n",
    "    model.compile(optimizer = 'Adam', loss='binary_crossentropy', metrics=['acc'])\n",
    "    return model\n"
   ]
  },
  {
   "cell_type": "code",
   "execution_count": 8,
   "metadata": {},
   "outputs": [],
   "source": [
    "model = keras_model()"
   ]
  },
  {
   "cell_type": "code",
   "execution_count": 13,
   "metadata": {},
   "outputs": [],
   "source": [
    "X_train, X_test, y_train, y_test = train_test_split(X1, y, test_size = 0.2, random_state=1)"
   ]
  },
  {
   "cell_type": "code",
   "execution_count": 14,
   "metadata": {},
   "outputs": [],
   "source": [
    "modelpath = './datas/recommender.model'\n",
    "checkpointer = ModelCheckpoint(filepath = modelpath, monitor='val_loss', verbose=1, save_best_only=True)\n",
    "early_stop = EarlyStopping(monitor='val_loss', patience=3)"
   ]
  },
  {
   "cell_type": "code",
   "execution_count": 15,
   "metadata": {},
   "outputs": [
    {
     "name": "stdout",
     "output_type": "stream",
     "text": [
      "Train on 72457 samples, validate on 18115 samples\n",
      "Epoch 1/50\n",
      "72457/72457 [==============================] - 15s 207us/step - loss: 0.6417 - acc: 0.6030 - val_loss: 0.6135 - val_acc: 0.6306\n",
      "\n",
      "Epoch 00001: val_loss improved from inf to 0.61350, saving model to ./datas/recommender.model\n",
      "Epoch 2/50\n",
      "72457/72457 [==============================] - 7s 94us/step - loss: 0.6071 - acc: 0.6261 - val_loss: 0.5916 - val_acc: 0.6601\n",
      "\n",
      "Epoch 00002: val_loss improved from 0.61350 to 0.59162, saving model to ./datas/recommender.model\n",
      "Epoch 3/50\n",
      "72457/72457 [==============================] - 7s 102us/step - loss: 0.5899 - acc: 0.6461 - val_loss: 0.5665 - val_acc: 0.6895\n",
      "\n",
      "Epoch 00003: val_loss improved from 0.59162 to 0.56651, saving model to ./datas/recommender.model\n",
      "Epoch 4/50\n",
      "72457/72457 [==============================] - 8s 104us/step - loss: 0.5710 - acc: 0.6716 - val_loss: 0.5612 - val_acc: 0.7101\n",
      "\n",
      "Epoch 00004: val_loss improved from 0.56651 to 0.56123, saving model to ./datas/recommender.model\n",
      "Epoch 5/50\n",
      "72457/72457 [==============================] - 7s 96us/step - loss: 0.5516 - acc: 0.6963 - val_loss: 0.5512 - val_acc: 0.7243\n",
      "\n",
      "Epoch 00005: val_loss improved from 0.56123 to 0.55125, saving model to ./datas/recommender.model\n",
      "Epoch 6/50\n",
      "72457/72457 [==============================] - 7s 95us/step - loss: 0.5372 - acc: 0.7109 - val_loss: 0.5405 - val_acc: 0.7243\n",
      "\n",
      "Epoch 00006: val_loss improved from 0.55125 to 0.54048, saving model to ./datas/recommender.model\n",
      "Epoch 7/50\n",
      "72457/72457 [==============================] - 7s 94us/step - loss: 0.5244 - acc: 0.7216 - val_loss: 0.5471 - val_acc: 0.7110\n",
      "\n",
      "Epoch 00007: val_loss did not improve\n",
      "Epoch 8/50\n",
      "72457/72457 [==============================] - 8s 112us/step - loss: 0.5208 - acc: 0.7257 - val_loss: 0.5459 - val_acc: 0.7154\n",
      "\n",
      "Epoch 00008: val_loss did not improve\n",
      "Epoch 9/50\n",
      "72457/72457 [==============================] - 7s 98us/step - loss: 0.5111 - acc: 0.7340 - val_loss: 0.5391 - val_acc: 0.7200\n",
      "\n",
      "Epoch 00009: val_loss improved from 0.54048 to 0.53907, saving model to ./datas/recommender.model\n",
      "Epoch 10/50\n",
      "72457/72457 [==============================] - 7s 96us/step - loss: 0.5050 - acc: 0.7391 - val_loss: 0.5310 - val_acc: 0.7292\n",
      "\n",
      "Epoch 00010: val_loss improved from 0.53907 to 0.53100, saving model to ./datas/recommender.model\n",
      "Epoch 11/50\n",
      "72457/72457 [==============================] - 7s 96us/step - loss: 0.4991 - acc: 0.7428 - val_loss: 0.5285 - val_acc: 0.7261\n",
      "\n",
      "Epoch 00011: val_loss improved from 0.53100 to 0.52849, saving model to ./datas/recommender.model\n",
      "Epoch 12/50\n",
      "72457/72457 [==============================] - 7s 95us/step - loss: 0.4948 - acc: 0.7484 - val_loss: 0.5502 - val_acc: 0.7075\n",
      "\n",
      "Epoch 00012: val_loss did not improve\n",
      "Epoch 13/50\n",
      "72457/72457 [==============================] - 8s 107us/step - loss: 0.4910 - acc: 0.7497 - val_loss: 0.5268 - val_acc: 0.7344\n",
      "\n",
      "Epoch 00013: val_loss improved from 0.52849 to 0.52680, saving model to ./datas/recommender.model\n",
      "Epoch 14/50\n",
      "72457/72457 [==============================] - 7s 98us/step - loss: 0.4888 - acc: 0.7507 - val_loss: 0.5283 - val_acc: 0.7234\n",
      "\n",
      "Epoch 00014: val_loss did not improve\n",
      "Epoch 15/50\n",
      "72457/72457 [==============================] - 7s 96us/step - loss: 0.4841 - acc: 0.7538 - val_loss: 0.5346 - val_acc: 0.7189\n",
      "\n",
      "Epoch 00015: val_loss did not improve\n",
      "Epoch 16/50\n",
      "72457/72457 [==============================] - 8s 106us/step - loss: 0.4808 - acc: 0.7568 - val_loss: 0.5545 - val_acc: 0.6986\n",
      "\n",
      "Epoch 00016: val_loss did not improve\n"
     ]
    },
    {
     "data": {
      "text/plain": [
       "<keras.callbacks.History at 0x199658b26d8>"
      ]
     },
     "execution_count": 15,
     "metadata": {},
     "output_type": "execute_result"
    }
   ],
   "source": [
    "model.fit(X_train, y_train, validation_split = 0.2, epochs=50, batch_size=64, callbacks=[early_stop, checkpointer])"
   ]
  },
  {
   "cell_type": "code",
   "execution_count": 16,
   "metadata": {},
   "outputs": [],
   "source": [
    "pred = model.predict(X_test)"
   ]
  },
  {
   "cell_type": "code",
   "execution_count": 17,
   "metadata": {},
   "outputs": [],
   "source": [
    "pred_label = [1 if i > 0.5 else 0 for i in pred]"
   ]
  },
  {
   "cell_type": "code",
   "execution_count": 18,
   "metadata": {},
   "outputs": [
    {
     "name": "stdout",
     "output_type": "stream",
     "text": [
      "0.7108376715570278\n",
      "0.5794753086419753\n",
      "0.9192166462668299\n",
      "0.7031753742878594\n"
     ]
    }
   ],
   "source": [
    "print(f1_score(y_test, pred_label))\n",
    "print(precision_score(y_test, pred_label))\n",
    "print(recall_score(y_test, pred_label))\n",
    "print(accuracy_score(y_test, pred_label))"
   ]
  },
  {
   "cell_type": "code",
   "execution_count": null,
   "metadata": {},
   "outputs": [],
   "source": []
  }
 ],
 "metadata": {
  "kernelspec": {
   "display_name": "Python 3",
   "language": "python",
   "name": "python3"
  },
  "language_info": {
   "codemirror_mode": {
    "name": "ipython",
    "version": 3
   },
   "file_extension": ".py",
   "mimetype": "text/x-python",
   "name": "python",
   "nbconvert_exporter": "python",
   "pygments_lexer": "ipython3",
   "version": "3.8.5"
  }
 },
 "nbformat": 4,
 "nbformat_minor": 2
}
