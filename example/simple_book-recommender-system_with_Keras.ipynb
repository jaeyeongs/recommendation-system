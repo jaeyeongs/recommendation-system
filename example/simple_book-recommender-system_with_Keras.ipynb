{
 "cells": [
  {
   "cell_type": "markdown",
   "metadata": {},
   "source": [
    "# 블로그 설명\n",
    "\n",
    "해당 자료에 대한 설명은 아래 블로그에 올려두었습니다.\n",
    "- https://lsjsj92.tistory.com/606"
   ]
  },
  {
   "cell_type": "code",
   "execution_count": 1,
   "metadata": {},
   "outputs": [],
   "source": [
    "import pandas as pd\n",
    "import numpy as np\n",
    "import matplotlib.pyplot as plt\n",
    "import os\n",
    "import warnings\n",
    "\n",
    "from tensorflow.keras.layers import Input, Embedding, Flatten, Dot, Dense, Concatenate\n",
    "from tensorflow.keras.models import Model, load_model\n",
    "from tensorflow.keras.utils import plot_model\n",
    "from sklearn.model_selection import train_test_split\n",
    "import seaborn as sns\n",
    "import matplotlib.pyplot as plt\n",
    "warnings.filterwarnings('ignore')"
   ]
  },
  {
   "cell_type": "code",
   "execution_count": 2,
   "metadata": {},
   "outputs": [],
   "source": [
    "data = pd.read_csv('../data/book_kaggle/ratings.csv')\n",
    "books = pd.read_csv('../data/book_kaggle/books.csv')"
   ]
  },
  {
   "cell_type": "code",
   "execution_count": 3,
   "metadata": {},
   "outputs": [
    {
     "name": "stdout",
     "output_type": "stream",
     "text": [
      "(981756, 3)\n"
     ]
    },
    {
     "data": {
      "text/html": [
       "<div>\n",
       "<style scoped>\n",
       "    .dataframe tbody tr th:only-of-type {\n",
       "        vertical-align: middle;\n",
       "    }\n",
       "\n",
       "    .dataframe tbody tr th {\n",
       "        vertical-align: top;\n",
       "    }\n",
       "\n",
       "    .dataframe thead th {\n",
       "        text-align: right;\n",
       "    }\n",
       "</style>\n",
       "<table border=\"1\" class=\"dataframe\">\n",
       "  <thead>\n",
       "    <tr style=\"text-align: right;\">\n",
       "      <th></th>\n",
       "      <th>book_id</th>\n",
       "      <th>user_id</th>\n",
       "      <th>rating</th>\n",
       "    </tr>\n",
       "  </thead>\n",
       "  <tbody>\n",
       "    <tr>\n",
       "      <th>0</th>\n",
       "      <td>1</td>\n",
       "      <td>314</td>\n",
       "      <td>5</td>\n",
       "    </tr>\n",
       "    <tr>\n",
       "      <th>1</th>\n",
       "      <td>1</td>\n",
       "      <td>439</td>\n",
       "      <td>3</td>\n",
       "    </tr>\n",
       "    <tr>\n",
       "      <th>2</th>\n",
       "      <td>1</td>\n",
       "      <td>588</td>\n",
       "      <td>5</td>\n",
       "    </tr>\n",
       "    <tr>\n",
       "      <th>3</th>\n",
       "      <td>1</td>\n",
       "      <td>1169</td>\n",
       "      <td>4</td>\n",
       "    </tr>\n",
       "    <tr>\n",
       "      <th>4</th>\n",
       "      <td>1</td>\n",
       "      <td>1185</td>\n",
       "      <td>4</td>\n",
       "    </tr>\n",
       "  </tbody>\n",
       "</table>\n",
       "</div>"
      ],
      "text/plain": [
       "   book_id  user_id  rating\n",
       "0        1      314       5\n",
       "1        1      439       3\n",
       "2        1      588       5\n",
       "3        1     1169       4\n",
       "4        1     1185       4"
      ]
     },
     "execution_count": 3,
     "metadata": {},
     "output_type": "execute_result"
    }
   ],
   "source": [
    "# 사용자가 어떤 book을 평가했는지에 대한 데이터\n",
    "print(data.shape)\n",
    "data.head()"
   ]
  },
  {
   "cell_type": "code",
   "execution_count": 4,
   "metadata": {},
   "outputs": [
    {
     "name": "stdout",
     "output_type": "stream",
     "text": [
      "(10000, 23)\n"
     ]
    },
    {
     "data": {
      "text/html": [
       "<div>\n",
       "<style scoped>\n",
       "    .dataframe tbody tr th:only-of-type {\n",
       "        vertical-align: middle;\n",
       "    }\n",
       "\n",
       "    .dataframe tbody tr th {\n",
       "        vertical-align: top;\n",
       "    }\n",
       "\n",
       "    .dataframe thead th {\n",
       "        text-align: right;\n",
       "    }\n",
       "</style>\n",
       "<table border=\"1\" class=\"dataframe\">\n",
       "  <thead>\n",
       "    <tr style=\"text-align: right;\">\n",
       "      <th></th>\n",
       "      <th>id</th>\n",
       "      <th>book_id</th>\n",
       "      <th>best_book_id</th>\n",
       "      <th>work_id</th>\n",
       "      <th>books_count</th>\n",
       "      <th>isbn</th>\n",
       "      <th>isbn13</th>\n",
       "      <th>authors</th>\n",
       "      <th>original_publication_year</th>\n",
       "      <th>original_title</th>\n",
       "      <th>...</th>\n",
       "      <th>ratings_count</th>\n",
       "      <th>work_ratings_count</th>\n",
       "      <th>work_text_reviews_count</th>\n",
       "      <th>ratings_1</th>\n",
       "      <th>ratings_2</th>\n",
       "      <th>ratings_3</th>\n",
       "      <th>ratings_4</th>\n",
       "      <th>ratings_5</th>\n",
       "      <th>image_url</th>\n",
       "      <th>small_image_url</th>\n",
       "    </tr>\n",
       "  </thead>\n",
       "  <tbody>\n",
       "    <tr>\n",
       "      <th>0</th>\n",
       "      <td>1</td>\n",
       "      <td>2767052</td>\n",
       "      <td>2767052</td>\n",
       "      <td>2792775</td>\n",
       "      <td>272</td>\n",
       "      <td>439023483</td>\n",
       "      <td>9.780439e+12</td>\n",
       "      <td>Suzanne Collins</td>\n",
       "      <td>2008.0</td>\n",
       "      <td>The Hunger Games</td>\n",
       "      <td>...</td>\n",
       "      <td>4780653</td>\n",
       "      <td>4942365</td>\n",
       "      <td>155254</td>\n",
       "      <td>66715</td>\n",
       "      <td>127936</td>\n",
       "      <td>560092</td>\n",
       "      <td>1481305</td>\n",
       "      <td>2706317</td>\n",
       "      <td>https://images.gr-assets.com/books/1447303603m...</td>\n",
       "      <td>https://images.gr-assets.com/books/1447303603s...</td>\n",
       "    </tr>\n",
       "    <tr>\n",
       "      <th>1</th>\n",
       "      <td>2</td>\n",
       "      <td>3</td>\n",
       "      <td>3</td>\n",
       "      <td>4640799</td>\n",
       "      <td>491</td>\n",
       "      <td>439554934</td>\n",
       "      <td>9.780440e+12</td>\n",
       "      <td>J.K. Rowling, Mary GrandPré</td>\n",
       "      <td>1997.0</td>\n",
       "      <td>Harry Potter and the Philosopher's Stone</td>\n",
       "      <td>...</td>\n",
       "      <td>4602479</td>\n",
       "      <td>4800065</td>\n",
       "      <td>75867</td>\n",
       "      <td>75504</td>\n",
       "      <td>101676</td>\n",
       "      <td>455024</td>\n",
       "      <td>1156318</td>\n",
       "      <td>3011543</td>\n",
       "      <td>https://images.gr-assets.com/books/1474154022m...</td>\n",
       "      <td>https://images.gr-assets.com/books/1474154022s...</td>\n",
       "    </tr>\n",
       "    <tr>\n",
       "      <th>2</th>\n",
       "      <td>3</td>\n",
       "      <td>41865</td>\n",
       "      <td>41865</td>\n",
       "      <td>3212258</td>\n",
       "      <td>226</td>\n",
       "      <td>316015849</td>\n",
       "      <td>9.780316e+12</td>\n",
       "      <td>Stephenie Meyer</td>\n",
       "      <td>2005.0</td>\n",
       "      <td>Twilight</td>\n",
       "      <td>...</td>\n",
       "      <td>3866839</td>\n",
       "      <td>3916824</td>\n",
       "      <td>95009</td>\n",
       "      <td>456191</td>\n",
       "      <td>436802</td>\n",
       "      <td>793319</td>\n",
       "      <td>875073</td>\n",
       "      <td>1355439</td>\n",
       "      <td>https://images.gr-assets.com/books/1361039443m...</td>\n",
       "      <td>https://images.gr-assets.com/books/1361039443s...</td>\n",
       "    </tr>\n",
       "    <tr>\n",
       "      <th>3</th>\n",
       "      <td>4</td>\n",
       "      <td>2657</td>\n",
       "      <td>2657</td>\n",
       "      <td>3275794</td>\n",
       "      <td>487</td>\n",
       "      <td>61120081</td>\n",
       "      <td>9.780061e+12</td>\n",
       "      <td>Harper Lee</td>\n",
       "      <td>1960.0</td>\n",
       "      <td>To Kill a Mockingbird</td>\n",
       "      <td>...</td>\n",
       "      <td>3198671</td>\n",
       "      <td>3340896</td>\n",
       "      <td>72586</td>\n",
       "      <td>60427</td>\n",
       "      <td>117415</td>\n",
       "      <td>446835</td>\n",
       "      <td>1001952</td>\n",
       "      <td>1714267</td>\n",
       "      <td>https://images.gr-assets.com/books/1361975680m...</td>\n",
       "      <td>https://images.gr-assets.com/books/1361975680s...</td>\n",
       "    </tr>\n",
       "    <tr>\n",
       "      <th>4</th>\n",
       "      <td>5</td>\n",
       "      <td>4671</td>\n",
       "      <td>4671</td>\n",
       "      <td>245494</td>\n",
       "      <td>1356</td>\n",
       "      <td>743273567</td>\n",
       "      <td>9.780743e+12</td>\n",
       "      <td>F. Scott Fitzgerald</td>\n",
       "      <td>1925.0</td>\n",
       "      <td>The Great Gatsby</td>\n",
       "      <td>...</td>\n",
       "      <td>2683664</td>\n",
       "      <td>2773745</td>\n",
       "      <td>51992</td>\n",
       "      <td>86236</td>\n",
       "      <td>197621</td>\n",
       "      <td>606158</td>\n",
       "      <td>936012</td>\n",
       "      <td>947718</td>\n",
       "      <td>https://images.gr-assets.com/books/1490528560m...</td>\n",
       "      <td>https://images.gr-assets.com/books/1490528560s...</td>\n",
       "    </tr>\n",
       "  </tbody>\n",
       "</table>\n",
       "<p>5 rows × 23 columns</p>\n",
       "</div>"
      ],
      "text/plain": [
       "   id  book_id  best_book_id  work_id  books_count       isbn        isbn13  \\\n",
       "0   1  2767052       2767052  2792775          272  439023483  9.780439e+12   \n",
       "1   2        3             3  4640799          491  439554934  9.780440e+12   \n",
       "2   3    41865         41865  3212258          226  316015849  9.780316e+12   \n",
       "3   4     2657          2657  3275794          487   61120081  9.780061e+12   \n",
       "4   5     4671          4671   245494         1356  743273567  9.780743e+12   \n",
       "\n",
       "                       authors  original_publication_year  \\\n",
       "0              Suzanne Collins                     2008.0   \n",
       "1  J.K. Rowling, Mary GrandPré                     1997.0   \n",
       "2              Stephenie Meyer                     2005.0   \n",
       "3                   Harper Lee                     1960.0   \n",
       "4          F. Scott Fitzgerald                     1925.0   \n",
       "\n",
       "                             original_title  ... ratings_count  \\\n",
       "0                          The Hunger Games  ...       4780653   \n",
       "1  Harry Potter and the Philosopher's Stone  ...       4602479   \n",
       "2                                  Twilight  ...       3866839   \n",
       "3                     To Kill a Mockingbird  ...       3198671   \n",
       "4                          The Great Gatsby  ...       2683664   \n",
       "\n",
       "  work_ratings_count  work_text_reviews_count  ratings_1  ratings_2  \\\n",
       "0            4942365                   155254      66715     127936   \n",
       "1            4800065                    75867      75504     101676   \n",
       "2            3916824                    95009     456191     436802   \n",
       "3            3340896                    72586      60427     117415   \n",
       "4            2773745                    51992      86236     197621   \n",
       "\n",
       "   ratings_3  ratings_4  ratings_5  \\\n",
       "0     560092    1481305    2706317   \n",
       "1     455024    1156318    3011543   \n",
       "2     793319     875073    1355439   \n",
       "3     446835    1001952    1714267   \n",
       "4     606158     936012     947718   \n",
       "\n",
       "                                           image_url  \\\n",
       "0  https://images.gr-assets.com/books/1447303603m...   \n",
       "1  https://images.gr-assets.com/books/1474154022m...   \n",
       "2  https://images.gr-assets.com/books/1361039443m...   \n",
       "3  https://images.gr-assets.com/books/1361975680m...   \n",
       "4  https://images.gr-assets.com/books/1490528560m...   \n",
       "\n",
       "                                     small_image_url  \n",
       "0  https://images.gr-assets.com/books/1447303603s...  \n",
       "1  https://images.gr-assets.com/books/1474154022s...  \n",
       "2  https://images.gr-assets.com/books/1361039443s...  \n",
       "3  https://images.gr-assets.com/books/1361975680s...  \n",
       "4  https://images.gr-assets.com/books/1490528560s...  \n",
       "\n",
       "[5 rows x 23 columns]"
      ]
     },
     "execution_count": 4,
     "metadata": {},
     "output_type": "execute_result"
    }
   ],
   "source": [
    "# 책에 대한 정보\n",
    "print(books.shape)\n",
    "books.head()"
   ]
  },
  {
   "cell_type": "code",
   "execution_count": 5,
   "metadata": {},
   "outputs": [
    {
     "name": "stdout",
     "output_type": "stream",
     "text": [
      "<class 'pandas.core.frame.DataFrame'>\n",
      "RangeIndex: 981756 entries, 0 to 981755\n",
      "Data columns (total 3 columns):\n",
      " #   Column   Non-Null Count   Dtype\n",
      "---  ------   --------------   -----\n",
      " 0   book_id  981756 non-null  int64\n",
      " 1   user_id  981756 non-null  int64\n",
      " 2   rating   981756 non-null  int64\n",
      "dtypes: int64(3)\n",
      "memory usage: 22.5 MB\n"
     ]
    }
   ],
   "source": [
    "data.info()"
   ]
  },
  {
   "cell_type": "code",
   "execution_count": 6,
   "metadata": {},
   "outputs": [
    {
     "name": "stdout",
     "output_type": "stream",
     "text": [
      "<class 'pandas.core.frame.DataFrame'>\n",
      "RangeIndex: 10000 entries, 0 to 9999\n",
      "Data columns (total 23 columns):\n",
      " #   Column                     Non-Null Count  Dtype  \n",
      "---  ------                     --------------  -----  \n",
      " 0   id                         10000 non-null  int64  \n",
      " 1   book_id                    10000 non-null  int64  \n",
      " 2   best_book_id               10000 non-null  int64  \n",
      " 3   work_id                    10000 non-null  int64  \n",
      " 4   books_count                10000 non-null  int64  \n",
      " 5   isbn                       9300 non-null   object \n",
      " 6   isbn13                     9415 non-null   float64\n",
      " 7   authors                    10000 non-null  object \n",
      " 8   original_publication_year  9979 non-null   float64\n",
      " 9   original_title             9415 non-null   object \n",
      " 10  title                      10000 non-null  object \n",
      " 11  language_code              8916 non-null   object \n",
      " 12  average_rating             10000 non-null  float64\n",
      " 13  ratings_count              10000 non-null  int64  \n",
      " 14  work_ratings_count         10000 non-null  int64  \n",
      " 15  work_text_reviews_count    10000 non-null  int64  \n",
      " 16  ratings_1                  10000 non-null  int64  \n",
      " 17  ratings_2                  10000 non-null  int64  \n",
      " 18  ratings_3                  10000 non-null  int64  \n",
      " 19  ratings_4                  10000 non-null  int64  \n",
      " 20  ratings_5                  10000 non-null  int64  \n",
      " 21  image_url                  10000 non-null  object \n",
      " 22  small_image_url            10000 non-null  object \n",
      "dtypes: float64(3), int64(13), object(7)\n",
      "memory usage: 1.8+ MB\n"
     ]
    }
   ],
   "source": [
    "books.info()\n"
   ]
  },
  {
   "cell_type": "code",
   "execution_count": 7,
   "metadata": {},
   "outputs": [
    {
     "name": "stdout",
     "output_type": "stream",
     "text": [
      "(785404, 3) (196352, 3)\n"
     ]
    },
    {
     "data": {
      "text/html": [
       "<div>\n",
       "<style scoped>\n",
       "    .dataframe tbody tr th:only-of-type {\n",
       "        vertical-align: middle;\n",
       "    }\n",
       "\n",
       "    .dataframe tbody tr th {\n",
       "        vertical-align: top;\n",
       "    }\n",
       "\n",
       "    .dataframe thead th {\n",
       "        text-align: right;\n",
       "    }\n",
       "</style>\n",
       "<table border=\"1\" class=\"dataframe\">\n",
       "  <thead>\n",
       "    <tr style=\"text-align: right;\">\n",
       "      <th></th>\n",
       "      <th>book_id</th>\n",
       "      <th>user_id</th>\n",
       "      <th>rating</th>\n",
       "    </tr>\n",
       "  </thead>\n",
       "  <tbody>\n",
       "    <tr>\n",
       "      <th>833746</th>\n",
       "      <td>8425</td>\n",
       "      <td>41968</td>\n",
       "      <td>4</td>\n",
       "    </tr>\n",
       "    <tr>\n",
       "      <th>445541</th>\n",
       "      <td>4464</td>\n",
       "      <td>9820</td>\n",
       "      <td>5</td>\n",
       "    </tr>\n",
       "    <tr>\n",
       "      <th>64697</th>\n",
       "      <td>648</td>\n",
       "      <td>1136</td>\n",
       "      <td>2</td>\n",
       "    </tr>\n",
       "    <tr>\n",
       "      <th>528509</th>\n",
       "      <td>5302</td>\n",
       "      <td>30532</td>\n",
       "      <td>3</td>\n",
       "    </tr>\n",
       "    <tr>\n",
       "      <th>809576</th>\n",
       "      <td>8171</td>\n",
       "      <td>43077</td>\n",
       "      <td>3</td>\n",
       "    </tr>\n",
       "  </tbody>\n",
       "</table>\n",
       "</div>"
      ],
      "text/plain": [
       "        book_id  user_id  rating\n",
       "833746     8425    41968       4\n",
       "445541     4464     9820       5\n",
       "64697       648     1136       2\n",
       "528509     5302    30532       3\n",
       "809576     8171    43077       3"
      ]
     },
     "execution_count": 7,
     "metadata": {},
     "output_type": "execute_result"
    }
   ],
   "source": [
    "train, test = train_test_split(data, test_size = 0.2)\n",
    "print(train.shape, test.shape)\n",
    "train.head()"
   ]
  },
  {
   "cell_type": "code",
   "execution_count": 8,
   "metadata": {},
   "outputs": [
    {
     "name": "stdout",
     "output_type": "stream",
     "text": [
      "53424 10000\n"
     ]
    }
   ],
   "source": [
    "number_of_unique_user = len(data.user_id.unique())\n",
    "number_of_unique_book_id = len(data.book_id.unique())\n",
    "print(number_of_unique_user, number_of_unique_book_id)"
   ]
  },
  {
   "cell_type": "code",
   "execution_count": null,
   "metadata": {},
   "outputs": [],
   "source": []
  },
  {
   "cell_type": "markdown",
   "metadata": {},
   "source": [
    "# 첫 번째 모델\n",
    "\n",
    "간단한 Dot product 형태의 모델이다.   \n",
    "사용자 embedding과 book embedding을 기반으로 나온 벡터 값을 Dot 연산을 통해 rating을 예측하는 방법"
   ]
  },
  {
   "cell_type": "code",
   "execution_count": 9,
   "metadata": {},
   "outputs": [],
   "source": [
    "# layer 만들기\n",
    "book_input = Input(shape=(1,), name='book_input_layer')\n",
    "user_input = Input(shape=(1,), name='user_input_layer')\n",
    "\n",
    "book_embedding_layer = Embedding(number_of_unique_book_id + 1, 8, name='book_embedding_layer')\n",
    "user_embedding_layer = Embedding(number_of_unique_user + 1, 8, name='user_embedding_layer')\n",
    "\n",
    "book_vector_layer = Flatten(name='book_vector_layer')\n",
    "user_vector_layer = Flatten(name='user_vector_layer')\n",
    "\n",
    "dot_result_layer = Dot(name='dot_vector_layer', axes = 1)\n"
   ]
  },
  {
   "cell_type": "code",
   "execution_count": 10,
   "metadata": {},
   "outputs": [],
   "source": [
    "# 쌓기\n",
    "book_embedding = book_embedding_layer(book_input)\n",
    "user_embedding = user_embedding_layer(user_input)\n",
    "\n",
    "book_vector = book_vector_layer(book_embedding)\n",
    "user_vector = user_vector_layer(user_embedding)\n",
    "\n",
    "dot_result = dot_result_layer([book_vector, user_vector])\n",
    "model = Model(inputs=[user_input, book_input], outputs=dot_result)\n"
   ]
  },
  {
   "cell_type": "code",
   "execution_count": 11,
   "metadata": {},
   "outputs": [
    {
     "name": "stdout",
     "output_type": "stream",
     "text": [
      "Model: \"functional_1\"\n",
      "__________________________________________________________________________________________________\n",
      "Layer (type)                    Output Shape         Param #     Connected to                     \n",
      "==================================================================================================\n",
      "book_input_layer (InputLayer)   [(None, 1)]          0                                            \n",
      "__________________________________________________________________________________________________\n",
      "user_input_layer (InputLayer)   [(None, 1)]          0                                            \n",
      "__________________________________________________________________________________________________\n",
      "book_embedding_layer (Embedding (None, 1, 8)         80008       book_input_layer[0][0]           \n",
      "__________________________________________________________________________________________________\n",
      "user_embedding_layer (Embedding (None, 1, 8)         427400      user_input_layer[0][0]           \n",
      "__________________________________________________________________________________________________\n",
      "book_vector_layer (Flatten)     (None, 8)            0           book_embedding_layer[0][0]       \n",
      "__________________________________________________________________________________________________\n",
      "user_vector_layer (Flatten)     (None, 8)            0           user_embedding_layer[0][0]       \n",
      "__________________________________________________________________________________________________\n",
      "dot_vector_layer (Dot)          (None, 1)            0           book_vector_layer[0][0]          \n",
      "                                                                 user_vector_layer[0][0]          \n",
      "==================================================================================================\n",
      "Total params: 507,408\n",
      "Trainable params: 507,408\n",
      "Non-trainable params: 0\n",
      "__________________________________________________________________________________________________\n"
     ]
    }
   ],
   "source": [
    "model.summary()"
   ]
  },
  {
   "cell_type": "code",
   "execution_count": 12,
   "metadata": {},
   "outputs": [
    {
     "data": {
      "image/png": "[encoded data removed]",
      "text/plain": [
       "<IPython.core.display.Image object>"
      ]
     },
     "execution_count": 12,
     "metadata": {},
     "output_type": "execute_result"
    }
   ],
   "source": [
    "plot_model(model, to_file='./dot_model.png', show_shapes=True, show_layer_names=True)"
   ]
  },
  {
   "cell_type": "code",
   "execution_count": 13,
   "metadata": {},
   "outputs": [],
   "source": [
    "model.compile(loss = 'mse', optimizer='adam', metrics=['mse'])"
   ]
  },
  {
   "cell_type": "code",
   "execution_count": 14,
   "metadata": {},
   "outputs": [
    {
     "name": "stdout",
     "output_type": "stream",
     "text": [
      "Epoch 1/8\n",
      "24544/24544 [==============================] - 43s 2ms/step - loss: 13.0896 - mse: 13.0896\n",
      "Epoch 2/8\n",
      "24544/24544 [==============================] - 43s 2ms/step - loss: 3.4429 - mse: 3.4429\n",
      "Epoch 3/8\n",
      "24544/24544 [==============================] - 41s 2ms/step - loss: 1.4427 - mse: 1.4427\n",
      "Epoch 4/8\n",
      "24544/24544 [==============================] - 42s 2ms/step - loss: 1.0189 - mse: 1.0189\n",
      "Epoch 5/8\n",
      "24544/24544 [==============================] - 39s 2ms/step - loss: 0.8485 - mse: 0.8485\n",
      "Epoch 6/8\n",
      "24544/24544 [==============================] - 38s 2ms/step - loss: 0.7596 - mse: 0.7596\n",
      "Epoch 7/8\n",
      "24544/24544 [==============================] - 37s 2ms/step - loss: 0.7084 - mse: 0.7084\n",
      "Epoch 8/8\n",
      "24544/24544 [==============================] - 36s 1ms/step - loss: 0.6741 - mse: 0.6741\n"
     ]
    }
   ],
   "source": [
    "history = model.fit([train.user_id, train.book_id], train.rating, epochs=8, verbose=1)"
   ]
  },
  {
   "cell_type": "code",
   "execution_count": 15,
   "metadata": {},
   "outputs": [
    {
     "data": {
      "text/plain": [
       "Text(0, 0.5, 'training error')"
      ]
     },
     "execution_count": 15,
     "metadata": {},
     "output_type": "execute_result"
    },
    {
     "data": {
      "image/png": "[encoded data removed]",
      "text/plain": [
       "<Figure size 432x288 with 1 Axes>"
      ]
     },
     "metadata": {
      "needs_background": "light"
     },
     "output_type": "display_data"
    }
   ],
   "source": [
    "plt.plot(history.history['loss'])\n",
    "plt.xlabel('epochs')\n",
    "plt.ylabel('training error')"
   ]
  },
  {
   "cell_type": "code",
   "execution_count": 16,
   "metadata": {},
   "outputs": [
    {
     "name": "stdout",
     "output_type": "stream",
     "text": [
      "6136/6136 [==============================] - 2s 303us/step - loss: 0.9524 - mse: 0.9524\n"
     ]
    },
    {
     "data": {
      "text/plain": [
       "[0.9524081945419312, 0.9524081945419312]"
      ]
     },
     "execution_count": 16,
     "metadata": {},
     "output_type": "execute_result"
    }
   ],
   "source": [
    "model.evaluate([test.user_id, test.book_id], test.rating)"
   ]
  },
  {
   "cell_type": "code",
   "execution_count": null,
   "metadata": {},
   "outputs": [],
   "source": []
  },
  {
   "cell_type": "code",
   "execution_count": 17,
   "metadata": {},
   "outputs": [
    {
     "name": "stdout",
     "output_type": "stream",
     "text": [
      "[3.0390196] 4\n",
      "[3.4663684] 5\n",
      "[4.4353533] 4\n",
      "[5.022065] 5\n",
      "[1.3333156] 2\n",
      "[3.702732] 4\n",
      "[3.8910027] 5\n",
      "[4.9327035] 4\n",
      "[4.0983667] 4\n",
      "[3.0378323] 3\n"
     ]
    }
   ],
   "source": [
    "predictions = model.predict([test.user_id.head(10), test.book_id.head(10)])\n",
    "\n",
    "for p, t in zip(predictions, test.rating.values[:10]):\n",
    "    print(p, t)"
   ]
  },
  {
   "cell_type": "code",
   "execution_count": null,
   "metadata": {},
   "outputs": [],
   "source": []
  },
  {
   "cell_type": "code",
   "execution_count": null,
   "metadata": {},
   "outputs": [],
   "source": []
  },
  {
   "cell_type": "code",
   "execution_count": null,
   "metadata": {},
   "outputs": [],
   "source": []
  },
  {
   "cell_type": "markdown",
   "metadata": {},
   "source": [
    "# 2. Dense layer (Neural Network로 만들기)\n",
    "\n",
    "위에서는 단순하게 Dot을 이용해서 rating을 예측하는 형태로 만들었다.   \n",
    "이번에는 Dense layer를 이용해서 layer를 쌓고 rating을 예측하는 방법을 적용해본다."
   ]
  },
  {
   "cell_type": "code",
   "execution_count": 19,
   "metadata": {},
   "outputs": [],
   "source": [
    "# layer 쌓기\n",
    "\n",
    "book_input = Input(shape=(1, ), name='book_input_layer')\n",
    "user_input = Input(shape=(1, ), name='user_input_layer')\n",
    "\n",
    "book_embedding_layer = Embedding(number_of_unique_book_id + 1, 8, name='book_embedding_layer')\n",
    "user_embedding_layer = Embedding(number_of_unique_user + 1, 8, name='user_embedding_layer')\n",
    "\n",
    "book_vector_layer = Flatten(name='book_vector_layer')\n",
    "user_vector_layer = Flatten(name='user_vector_layer')\n",
    "\n",
    "concate_layer = Concatenate()\n",
    "\n",
    "dense_layer1 = Dense(128, activation='relu')\n",
    "dense_layer2 = Dense(32, activation='relu')\n",
    "\n",
    "result_layer = Dense(1)"
   ]
  },
  {
   "cell_type": "code",
   "execution_count": 20,
   "metadata": {},
   "outputs": [],
   "source": [
    "# 쌓기\n",
    "book_embedding = book_embedding_layer(book_input)\n",
    "user_embedding = user_embedding_layer(user_input)\n",
    "\n",
    "book_vector = book_vector_layer(book_embedding)\n",
    "user_vector = user_vector_layer(user_embedding)\n",
    "\n",
    "concat = concate_layer([book_vector, user_vector])\n",
    "dense1 = dense_layer1(concat)\n",
    "dense2 = dense_layer2(dense1)\n",
    "\n",
    "result = result_layer(dense2)\n",
    "\n",
    "model = Model(inputs=[user_input, book_input], outputs=result)"
   ]
  },
  {
   "cell_type": "code",
   "execution_count": 21,
   "metadata": {},
   "outputs": [
    {
     "name": "stdout",
     "output_type": "stream",
     "text": [
      "Model: \"functional_3\"\n",
      "__________________________________________________________________________________________________\n",
      "Layer (type)                    Output Shape         Param #     Connected to                     \n",
      "==================================================================================================\n",
      "book_input_layer (InputLayer)   [(None, 1)]          0                                            \n",
      "__________________________________________________________________________________________________\n",
      "user_input_layer (InputLayer)   [(None, 1)]          0                                            \n",
      "__________________________________________________________________________________________________\n",
      "book_embedding_layer (Embedding (None, 1, 8)         80008       book_input_layer[0][0]           \n",
      "__________________________________________________________________________________________________\n",
      "user_embedding_layer (Embedding (None, 1, 8)         427400      user_input_layer[0][0]           \n",
      "__________________________________________________________________________________________________\n",
      "book_vector_layer (Flatten)     (None, 8)            0           book_embedding_layer[0][0]       \n",
      "__________________________________________________________________________________________________\n",
      "user_vector_layer (Flatten)     (None, 8)            0           user_embedding_layer[0][0]       \n",
      "__________________________________________________________________________________________________\n",
      "concatenate_1 (Concatenate)     (None, 16)           0           book_vector_layer[0][0]          \n",
      "                                                                 user_vector_layer[0][0]          \n",
      "__________________________________________________________________________________________________\n",
      "dense_3 (Dense)                 (None, 128)          2176        concatenate_1[0][0]              \n",
      "__________________________________________________________________________________________________\n",
      "dense_4 (Dense)                 (None, 32)           4128        dense_3[0][0]                    \n",
      "__________________________________________________________________________________________________\n",
      "dense_5 (Dense)                 (None, 1)            33          dense_4[0][0]                    \n",
      "==================================================================================================\n",
      "Total params: 513,745\n",
      "Trainable params: 513,745\n",
      "Non-trainable params: 0\n",
      "__________________________________________________________________________________________________\n"
     ]
    }
   ],
   "source": [
    "model.summary()"
   ]
  },
  {
   "cell_type": "code",
   "execution_count": 22,
   "metadata": {},
   "outputs": [
    {
     "data": {
      "image/png": "[encoded data removed]",
      "text/plain": [
       "<IPython.core.display.Image object>"
      ]
     },
     "execution_count": 22,
     "metadata": {},
     "output_type": "execute_result"
    }
   ],
   "source": [
    "plot_model(model, to_file='./dense_predict_model.png', show_shapes=True, show_layer_names=True)"
   ]
  },
  {
   "cell_type": "code",
   "execution_count": 23,
   "metadata": {},
   "outputs": [],
   "source": [
    "model.compile(loss = 'mse', optimizer='adam', metrics=['mse'])"
   ]
  },
  {
   "cell_type": "code",
   "execution_count": 24,
   "metadata": {},
   "outputs": [
    {
     "name": "stdout",
     "output_type": "stream",
     "text": [
      "Epoch 1/8\n",
      "24544/24544 [==============================] - 43s 2ms/step - loss: 0.7982 - mse: 0.7982\n",
      "Epoch 2/8\n",
      "24544/24544 [==============================] - 37s 2ms/step - loss: 0.6871 - mse: 0.6871\n",
      "Epoch 3/8\n",
      "24544/24544 [==============================] - 37s 2ms/step - loss: 0.6526 - mse: 0.6526\n",
      "Epoch 4/8\n",
      "24544/24544 [==============================] - 38s 2ms/step - loss: 0.6243 - mse: 0.6243\n",
      "Epoch 5/8\n",
      "24544/24544 [==============================] - 38s 2ms/step - loss: 0.5966 - mse: 0.5966\n",
      "Epoch 6/8\n",
      "24544/24544 [==============================] - 44s 2ms/step - loss: 0.5686 - mse: 0.5686\n",
      "Epoch 7/8\n",
      "24544/24544 [==============================] - 40s 2ms/step - loss: 0.5433 - mse: 0.5433\n",
      "Epoch 8/8\n",
      "24544/24544 [==============================] - 42s 2ms/step - loss: 0.5200 - mse: 0.5200\n"
     ]
    }
   ],
   "source": [
    "history = model.fit([train.user_id, train.book_id], train.rating, epochs=8, verbose=1)"
   ]
  },
  {
   "cell_type": "code",
   "execution_count": 25,
   "metadata": {},
   "outputs": [
    {
     "data": {
      "text/plain": [
       "Text(0, 0.5, 'training error')"
      ]
     },
     "execution_count": 25,
     "metadata": {},
     "output_type": "execute_result"
    },
    {
     "data": {
      "image/png": "[encoded data removed]",
      "text/plain": [
       "<Figure size 432x288 with 1 Axes>"
      ]
     },
     "metadata": {
      "needs_background": "light"
     },
     "output_type": "display_data"
    }
   ],
   "source": [
    "plt.plot(history.history['loss'])\n",
    "plt.xlabel('epochs')\n",
    "plt.ylabel('training error')"
   ]
  },
  {
   "cell_type": "code",
   "execution_count": 26,
   "metadata": {},
   "outputs": [
    {
     "name": "stdout",
     "output_type": "stream",
     "text": [
      "6136/6136 [==============================] - 2s 349us/step - loss: 0.7414 - mse: 0.7414\n"
     ]
    },
    {
     "data": {
      "text/plain": [
       "[0.7414111495018005, 0.7414111495018005]"
      ]
     },
     "execution_count": 26,
     "metadata": {},
     "output_type": "execute_result"
    }
   ],
   "source": [
    "model.evaluate([test.user_id, test.book_id], test.rating)"
   ]
  },
  {
   "cell_type": "code",
   "execution_count": 27,
   "metadata": {},
   "outputs": [
    {
     "name": "stdout",
     "output_type": "stream",
     "text": [
      "[2.7931433] 4\n",
      "[4.2889414] 5\n",
      "[4.764618] 4\n",
      "[4.2071877] 5\n",
      "[3.5028908] 2\n",
      "[3.7568953] 4\n",
      "[4.081534] 5\n",
      "[4.465719] 4\n",
      "[3.6455593] 4\n",
      "[3.799435] 3\n"
     ]
    }
   ],
   "source": [
    "predictions = model.predict([test.user_id.head(10), test.book_id.head(10)])\n",
    "\n",
    "for p, t in zip(predictions, test.rating.values[:10]):\n",
    "    print(p, t)"
   ]
  },
  {
   "cell_type": "code",
   "execution_count": null,
   "metadata": {},
   "outputs": [],
   "source": []
  },
  {
   "cell_type": "code",
   "execution_count": 28,
   "metadata": {},
   "outputs": [],
   "source": [
    "tmp_book_data = np.array(list(set(data.book_id)))[:1000]\n",
    "tmp_user = np.array([1 for i in range(1000)])\n"
   ]
  },
  {
   "cell_type": "code",
   "execution_count": 31,
   "metadata": {},
   "outputs": [
    {
     "name": "stdout",
     "output_type": "stream",
     "text": [
      "[ 1  2  3  4  5  6  7  8  9 10]\n",
      "[1 1 1 1 1 1 1 1 1 1]\n"
     ]
    }
   ],
   "source": [
    "print(tmp_book_data[:10])\n",
    "print(tmp_user[:10])"
   ]
  },
  {
   "cell_type": "code",
   "execution_count": 30,
   "metadata": {},
   "outputs": [
    {
     "name": "stdout",
     "output_type": "stream",
     "text": [
      "[4.232527  4.4912014 2.74577   4.705388  3.6804   ]\n"
     ]
    }
   ],
   "source": [
    "predictions = model.predict([tmp_user, tmp_book_data])\n",
    "predictions = np.array([p[0] for p in predictions])\n",
    "print(predictions[:5])"
   ]
  },
  {
   "cell_type": "code",
   "execution_count": 42,
   "metadata": {},
   "outputs": [
    {
     "name": "stdout",
     "output_type": "stream",
     "text": [
      "[862 610 780 950   4]\n"
     ]
    }
   ],
   "source": [
    "# id는 1부터 시작인데 argsort를 하면 0부터 되므로 1을 더한다.\n",
    "recommended_book_ids = (-predictions).argsort()[:5] + 1\n",
    "print(recommended_book_ids)"
   ]
  },
  {
   "cell_type": "code",
   "execution_count": 43,
   "metadata": {},
   "outputs": [
    {
     "data": {
      "text/html": [
       "<div>\n",
       "<style scoped>\n",
       "    .dataframe tbody tr th:only-of-type {\n",
       "        vertical-align: middle;\n",
       "    }\n",
       "\n",
       "    .dataframe tbody tr th {\n",
       "        vertical-align: top;\n",
       "    }\n",
       "\n",
       "    .dataframe thead th {\n",
       "        text-align: right;\n",
       "    }\n",
       "</style>\n",
       "<table border=\"1\" class=\"dataframe\">\n",
       "  <thead>\n",
       "    <tr style=\"text-align: right;\">\n",
       "      <th></th>\n",
       "      <th>id</th>\n",
       "      <th>book_id</th>\n",
       "      <th>best_book_id</th>\n",
       "      <th>work_id</th>\n",
       "      <th>books_count</th>\n",
       "      <th>isbn</th>\n",
       "      <th>isbn13</th>\n",
       "      <th>authors</th>\n",
       "      <th>original_publication_year</th>\n",
       "      <th>original_title</th>\n",
       "      <th>...</th>\n",
       "      <th>ratings_count</th>\n",
       "      <th>work_ratings_count</th>\n",
       "      <th>work_text_reviews_count</th>\n",
       "      <th>ratings_1</th>\n",
       "      <th>ratings_2</th>\n",
       "      <th>ratings_3</th>\n",
       "      <th>ratings_4</th>\n",
       "      <th>ratings_5</th>\n",
       "      <th>image_url</th>\n",
       "      <th>small_image_url</th>\n",
       "    </tr>\n",
       "  </thead>\n",
       "  <tbody>\n",
       "    <tr>\n",
       "      <th>3</th>\n",
       "      <td>4</td>\n",
       "      <td>2657</td>\n",
       "      <td>2657</td>\n",
       "      <td>3275794</td>\n",
       "      <td>487</td>\n",
       "      <td>61120081</td>\n",
       "      <td>9.780061e+12</td>\n",
       "      <td>Harper Lee</td>\n",
       "      <td>1960.0</td>\n",
       "      <td>To Kill a Mockingbird</td>\n",
       "      <td>...</td>\n",
       "      <td>3198671</td>\n",
       "      <td>3340896</td>\n",
       "      <td>72586</td>\n",
       "      <td>60427</td>\n",
       "      <td>117415</td>\n",
       "      <td>446835</td>\n",
       "      <td>1001952</td>\n",
       "      <td>1714267</td>\n",
       "      <td>https://images.gr-assets.com/books/1361975680m...</td>\n",
       "      <td>https://images.gr-assets.com/books/1361975680s...</td>\n",
       "    </tr>\n",
       "    <tr>\n",
       "      <th>609</th>\n",
       "      <td>610</td>\n",
       "      <td>16158542</td>\n",
       "      <td>16158542</td>\n",
       "      <td>21998925</td>\n",
       "      <td>33</td>\n",
       "      <td>067002581X</td>\n",
       "      <td>9.780670e+12</td>\n",
       "      <td>Daniel James Brown</td>\n",
       "      <td>2013.0</td>\n",
       "      <td>The Boys in the Boat: Nine Americans and Their...</td>\n",
       "      <td>...</td>\n",
       "      <td>113565</td>\n",
       "      <td>139128</td>\n",
       "      <td>16287</td>\n",
       "      <td>2292</td>\n",
       "      <td>3772</td>\n",
       "      <td>15002</td>\n",
       "      <td>43457</td>\n",
       "      <td>74605</td>\n",
       "      <td>https://images.gr-assets.com/books/1354683116m...</td>\n",
       "      <td>https://images.gr-assets.com/books/1354683116s...</td>\n",
       "    </tr>\n",
       "    <tr>\n",
       "      <th>779</th>\n",
       "      <td>780</td>\n",
       "      <td>77727</td>\n",
       "      <td>77727</td>\n",
       "      <td>2110010</td>\n",
       "      <td>24</td>\n",
       "      <td>836220889</td>\n",
       "      <td>9.780836e+12</td>\n",
       "      <td>Bill Watterson, G.B. Trudeau</td>\n",
       "      <td>1987.0</td>\n",
       "      <td>Calvin and Hobbes</td>\n",
       "      <td>...</td>\n",
       "      <td>117788</td>\n",
       "      <td>118294</td>\n",
       "      <td>684</td>\n",
       "      <td>980</td>\n",
       "      <td>1435</td>\n",
       "      <td>7684</td>\n",
       "      <td>22365</td>\n",
       "      <td>85830</td>\n",
       "      <td>https://s.gr-assets.com/assets/nophoto/book/11...</td>\n",
       "      <td>https://s.gr-assets.com/assets/nophoto/book/50...</td>\n",
       "    </tr>\n",
       "    <tr>\n",
       "      <th>861</th>\n",
       "      <td>862</td>\n",
       "      <td>17332218</td>\n",
       "      <td>17332218</td>\n",
       "      <td>16482835</td>\n",
       "      <td>34</td>\n",
       "      <td>765326361</td>\n",
       "      <td>9.780765e+12</td>\n",
       "      <td>Brandon Sanderson</td>\n",
       "      <td>2014.0</td>\n",
       "      <td>Words of Radiance</td>\n",
       "      <td>...</td>\n",
       "      <td>73572</td>\n",
       "      <td>108176</td>\n",
       "      <td>7261</td>\n",
       "      <td>154</td>\n",
       "      <td>404</td>\n",
       "      <td>2653</td>\n",
       "      <td>18272</td>\n",
       "      <td>86693</td>\n",
       "      <td>https://images.gr-assets.com/books/1391535251m...</td>\n",
       "      <td>https://images.gr-assets.com/books/1391535251s...</td>\n",
       "    </tr>\n",
       "    <tr>\n",
       "      <th>949</th>\n",
       "      <td>950</td>\n",
       "      <td>20820994</td>\n",
       "      <td>20820994</td>\n",
       "      <td>11409817</td>\n",
       "      <td>71</td>\n",
       "      <td>803734964</td>\n",
       "      <td>9.780804e+12</td>\n",
       "      <td>Jandy Nelson</td>\n",
       "      <td>2014.0</td>\n",
       "      <td>I'll Give You the Sun</td>\n",
       "      <td>...</td>\n",
       "      <td>140937</td>\n",
       "      <td>153584</td>\n",
       "      <td>16701</td>\n",
       "      <td>7025</td>\n",
       "      <td>7517</td>\n",
       "      <td>20793</td>\n",
       "      <td>40241</td>\n",
       "      <td>78008</td>\n",
       "      <td>https://images.gr-assets.com/books/1496659336m...</td>\n",
       "      <td>https://images.gr-assets.com/books/1496659336s...</td>\n",
       "    </tr>\n",
       "  </tbody>\n",
       "</table>\n",
       "<p>5 rows × 23 columns</p>\n",
       "</div>"
      ],
      "text/plain": [
       "      id   book_id  best_book_id   work_id  books_count        isbn  \\\n",
       "3      4      2657          2657   3275794          487    61120081   \n",
       "609  610  16158542      16158542  21998925           33  067002581X   \n",
       "779  780     77727         77727   2110010           24   836220889   \n",
       "861  862  17332218      17332218  16482835           34   765326361   \n",
       "949  950  20820994      20820994  11409817           71   803734964   \n",
       "\n",
       "           isbn13                       authors  original_publication_year  \\\n",
       "3    9.780061e+12                    Harper Lee                     1960.0   \n",
       "609  9.780670e+12            Daniel James Brown                     2013.0   \n",
       "779  9.780836e+12  Bill Watterson, G.B. Trudeau                     1987.0   \n",
       "861  9.780765e+12             Brandon Sanderson                     2014.0   \n",
       "949  9.780804e+12                  Jandy Nelson                     2014.0   \n",
       "\n",
       "                                        original_title  ... ratings_count  \\\n",
       "3                                To Kill a Mockingbird  ...       3198671   \n",
       "609  The Boys in the Boat: Nine Americans and Their...  ...        113565   \n",
       "779                                  Calvin and Hobbes  ...        117788   \n",
       "861                                  Words of Radiance  ...         73572   \n",
       "949                              I'll Give You the Sun  ...        140937   \n",
       "\n",
       "    work_ratings_count  work_text_reviews_count  ratings_1  ratings_2  \\\n",
       "3              3340896                    72586      60427     117415   \n",
       "609             139128                    16287       2292       3772   \n",
       "779             118294                      684        980       1435   \n",
       "861             108176                     7261        154        404   \n",
       "949             153584                    16701       7025       7517   \n",
       "\n",
       "     ratings_3  ratings_4  ratings_5  \\\n",
       "3       446835    1001952    1714267   \n",
       "609      15002      43457      74605   \n",
       "779       7684      22365      85830   \n",
       "861       2653      18272      86693   \n",
       "949      20793      40241      78008   \n",
       "\n",
       "                                             image_url  \\\n",
       "3    https://images.gr-assets.com/books/1361975680m...   \n",
       "609  https://images.gr-assets.com/books/1354683116m...   \n",
       "779  https://s.gr-assets.com/assets/nophoto/book/11...   \n",
       "861  https://images.gr-assets.com/books/1391535251m...   \n",
       "949  https://images.gr-assets.com/books/1496659336m...   \n",
       "\n",
       "                                       small_image_url  \n",
       "3    https://images.gr-assets.com/books/1361975680s...  \n",
       "609  https://images.gr-assets.com/books/1354683116s...  \n",
       "779  https://s.gr-assets.com/assets/nophoto/book/50...  \n",
       "861  https://images.gr-assets.com/books/1391535251s...  \n",
       "949  https://images.gr-assets.com/books/1496659336s...  \n",
       "\n",
       "[5 rows x 23 columns]"
      ]
     },
     "execution_count": 43,
     "metadata": {},
     "output_type": "execute_result"
    }
   ],
   "source": [
    "books[books['id'].isin(recommended_book_ids)]"
   ]
  },
  {
   "cell_type": "code",
   "execution_count": null,
   "metadata": {},
   "outputs": [],
   "source": []
  },
  {
   "cell_type": "code",
   "execution_count": null,
   "metadata": {},
   "outputs": [],
   "source": []
  },
  {
   "cell_type": "code",
   "execution_count": null,
   "metadata": {},
   "outputs": [],
   "source": []
  },
  {
   "cell_type": "code",
   "execution_count": null,
   "metadata": {},
   "outputs": [],
   "source": []
  },
  {
   "cell_type": "code",
   "execution_count": null,
   "metadata": {},
   "outputs": [],
   "source": []
  }
 ],
 "metadata": {
  "kernelspec": {
   "display_name": "Python 3.8.5 64-bit ('soojin': conda)",
   "language": "python",
   "name": "python38564bitsoojinconda500ccdc350d846ea9d3ed9887713270b"
  },
  "language_info": {
   "codemirror_mode": {
    "name": "ipython",
    "version": 3
   },
   "file_extension": ".py",
   "mimetype": "text/x-python",
   "name": "python",
   "nbconvert_exporter": "python",
   "pygments_lexer": "ipython3",
   "version": "3.8.5"
  }
 },
 "nbformat": 4,
 "nbformat_minor": 4
}
