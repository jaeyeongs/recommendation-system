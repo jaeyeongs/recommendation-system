{
 "cells": [
  {
   "cell_type": "markdown",
   "id": "01422061",
   "metadata": {},
   "source": [
    "# Blog\n",
    "- https://lsjsj92.tistory.com/657\n",
    "\n",
    "위 블로그에서 설명한 코드입니다.\n",
    "\n",
    "# Data\n",
    "- https://www.kaggle.com/datasets/rounakbanik/the-movies-dataset"
   ]
  },
  {
   "cell_type": "code",
   "execution_count": 1,
   "id": "1925745b",
   "metadata": {},
   "outputs": [
    {
     "data": {
      "text/html": [
       "\n",
       "<style>\n",
       "    div#notebook-container    { width: 95%; }\n",
       "    div#menubar-container     { width: 95%; }\n",
       "    div#maintoolbar-container { width: 99%; }\n",
       "</style>\n"
      ],
      "text/plain": [
       "<IPython.core.display.HTML object>"
      ]
     },
     "metadata": {},
     "output_type": "display_data"
    }
   ],
   "source": [
    "from IPython.display import display, HTML\n",
    "display(HTML(data=\"\"\"\n",
    "<style>\n",
    "    div#notebook-container    { width: 95%; }\n",
    "    div#menubar-container     { width: 95%; }\n",
    "    div#maintoolbar-container { width: 99%; }\n",
    "</style>\n",
    "\"\"\"))"
   ]
  },
  {
   "cell_type": "code",
   "execution_count": 371,
   "id": "3e46dd11",
   "metadata": {},
   "outputs": [],
   "source": [
    "import requests\n",
    "\n",
    "import pandas as pd\n",
    "import numpy as np\n",
    "import copy\n",
    "import json\n",
    "\n",
    "from ast import literal_eval\n",
    "\n",
    "import torch\n",
    "from sentence_transformers import SentenceTransformer, util\n",
    "from transformers import AutoTokenizer, AutoModel\n",
    "from transformers import OwlViTProcessor, OwlViTForObjectDetection\n",
    "from transformers import pipeline\n",
    "from transformers import GPT2TokenizerFast\n",
    "from PIL import Image\n",
    "\n",
    "import pickle\n",
    "\n"
   ]
  },
  {
   "cell_type": "code",
   "execution_count": 3,
   "id": "b5fea154",
   "metadata": {},
   "outputs": [],
   "source": [
    "import matplotlib.pyplot as plt\n",
    "from typing import List, Tuple, Dict\n",
    "\n",
    "import sklearn.datasets as datasets\n",
    "import sklearn.manifold as manifold"
   ]
  },
  {
   "cell_type": "code",
   "execution_count": 4,
   "id": "ffd81bad",
   "metadata": {},
   "outputs": [],
   "source": [
    "import openai\n",
    "import os\n",
    "import sys\n",
    "from dotenv import load_dotenv\n",
    "\n",
    "load_dotenv()    \n",
    "openai.api_key = os.getenv(\"OPENAI_API_KEY\")"
   ]
  },
  {
   "cell_type": "code",
   "execution_count": 5,
   "id": "4a88f0a5",
   "metadata": {},
   "outputs": [],
   "source": [
    "cur_os = sys.platform"
   ]
  },
  {
   "cell_type": "code",
   "execution_count": 6,
   "id": "dd02d945",
   "metadata": {},
   "outputs": [],
   "source": [
    "model_path = f\"D:/github\" if cur_os.startswith('win') else None"
   ]
  },
  {
   "cell_type": "markdown",
   "id": "755c7288",
   "metadata": {},
   "source": [
    "## 데이터셋"
   ]
  },
  {
   "cell_type": "code",
   "execution_count": 7,
   "id": "widespread-trial",
   "metadata": {},
   "outputs": [
    {
     "name": "stdout",
     "output_type": "stream",
     "text": [
      "(45466, 24)\n"
     ]
    },
    {
     "data": {
      "text/html": [
       "<div>\n",
       "<style scoped>\n",
       "    .dataframe tbody tr th:only-of-type {\n",
       "        vertical-align: middle;\n",
       "    }\n",
       "\n",
       "    .dataframe tbody tr th {\n",
       "        vertical-align: top;\n",
       "    }\n",
       "\n",
       "    .dataframe thead th {\n",
       "        text-align: right;\n",
       "    }\n",
       "</style>\n",
       "<table border=\"1\" class=\"dataframe\">\n",
       "  <thead>\n",
       "    <tr style=\"text-align: right;\">\n",
       "      <th></th>\n",
       "      <th>adult</th>\n",
       "      <th>belongs_to_collection</th>\n",
       "      <th>budget</th>\n",
       "      <th>genres</th>\n",
       "      <th>homepage</th>\n",
       "      <th>id</th>\n",
       "      <th>imdb_id</th>\n",
       "      <th>original_language</th>\n",
       "      <th>original_title</th>\n",
       "      <th>overview</th>\n",
       "      <th>...</th>\n",
       "      <th>release_date</th>\n",
       "      <th>revenue</th>\n",
       "      <th>runtime</th>\n",
       "      <th>spoken_languages</th>\n",
       "      <th>status</th>\n",
       "      <th>tagline</th>\n",
       "      <th>title</th>\n",
       "      <th>video</th>\n",
       "      <th>vote_average</th>\n",
       "      <th>vote_count</th>\n",
       "    </tr>\n",
       "  </thead>\n",
       "  <tbody>\n",
       "    <tr>\n",
       "      <th>0</th>\n",
       "      <td>False</td>\n",
       "      <td>{'id': 10194, 'name': 'Toy Story Collection', ...</td>\n",
       "      <td>30000000</td>\n",
       "      <td>[{'id': 16, 'name': 'Animation'}, {'id': 35, '...</td>\n",
       "      <td>http://toystory.disney.com/toy-story</td>\n",
       "      <td>862</td>\n",
       "      <td>tt0114709</td>\n",
       "      <td>en</td>\n",
       "      <td>Toy Story</td>\n",
       "      <td>Led by Woody, Andy's toys live happily in his ...</td>\n",
       "      <td>...</td>\n",
       "      <td>1995-10-30</td>\n",
       "      <td>373554033</td>\n",
       "      <td>81.0</td>\n",
       "      <td>[{'iso_639_1': 'en', 'name': 'English'}]</td>\n",
       "      <td>Released</td>\n",
       "      <td>NaN</td>\n",
       "      <td>Toy Story</td>\n",
       "      <td>False</td>\n",
       "      <td>7.7</td>\n",
       "      <td>5415</td>\n",
       "    </tr>\n",
       "    <tr>\n",
       "      <th>1</th>\n",
       "      <td>False</td>\n",
       "      <td>NaN</td>\n",
       "      <td>65000000</td>\n",
       "      <td>[{'id': 12, 'name': 'Adventure'}, {'id': 14, '...</td>\n",
       "      <td>NaN</td>\n",
       "      <td>8844</td>\n",
       "      <td>tt0113497</td>\n",
       "      <td>en</td>\n",
       "      <td>Jumanji</td>\n",
       "      <td>When siblings Judy and Peter discover an encha...</td>\n",
       "      <td>...</td>\n",
       "      <td>1995-12-15</td>\n",
       "      <td>262797249</td>\n",
       "      <td>104.0</td>\n",
       "      <td>[{'iso_639_1': 'en', 'name': 'English'}, {'iso...</td>\n",
       "      <td>Released</td>\n",
       "      <td>Roll the dice and unleash the excitement!</td>\n",
       "      <td>Jumanji</td>\n",
       "      <td>False</td>\n",
       "      <td>6.9</td>\n",
       "      <td>2413</td>\n",
       "    </tr>\n",
       "    <tr>\n",
       "      <th>2</th>\n",
       "      <td>False</td>\n",
       "      <td>{'id': 119050, 'name': 'Grumpy Old Men Collect...</td>\n",
       "      <td>0</td>\n",
       "      <td>[{'id': 10749, 'name': 'Romance'}, {'id': 35, ...</td>\n",
       "      <td>NaN</td>\n",
       "      <td>15602</td>\n",
       "      <td>tt0113228</td>\n",
       "      <td>en</td>\n",
       "      <td>Grumpier Old Men</td>\n",
       "      <td>A family wedding reignites the ancient feud be...</td>\n",
       "      <td>...</td>\n",
       "      <td>1995-12-22</td>\n",
       "      <td>0</td>\n",
       "      <td>101.0</td>\n",
       "      <td>[{'iso_639_1': 'en', 'name': 'English'}]</td>\n",
       "      <td>Released</td>\n",
       "      <td>Still Yelling. Still Fighting. Still Ready for...</td>\n",
       "      <td>Grumpier Old Men</td>\n",
       "      <td>False</td>\n",
       "      <td>6.5</td>\n",
       "      <td>92</td>\n",
       "    </tr>\n",
       "    <tr>\n",
       "      <th>3</th>\n",
       "      <td>False</td>\n",
       "      <td>NaN</td>\n",
       "      <td>16000000</td>\n",
       "      <td>[{'id': 35, 'name': 'Comedy'}, {'id': 18, 'nam...</td>\n",
       "      <td>NaN</td>\n",
       "      <td>31357</td>\n",
       "      <td>tt0114885</td>\n",
       "      <td>en</td>\n",
       "      <td>Waiting to Exhale</td>\n",
       "      <td>Cheated on, mistreated and stepped on, the wom...</td>\n",
       "      <td>...</td>\n",
       "      <td>1995-12-22</td>\n",
       "      <td>81452156</td>\n",
       "      <td>127.0</td>\n",
       "      <td>[{'iso_639_1': 'en', 'name': 'English'}]</td>\n",
       "      <td>Released</td>\n",
       "      <td>Friends are the people who let you be yourself...</td>\n",
       "      <td>Waiting to Exhale</td>\n",
       "      <td>False</td>\n",
       "      <td>6.1</td>\n",
       "      <td>34</td>\n",
       "    </tr>\n",
       "    <tr>\n",
       "      <th>4</th>\n",
       "      <td>False</td>\n",
       "      <td>{'id': 96871, 'name': 'Father of the Bride Col...</td>\n",
       "      <td>0</td>\n",
       "      <td>[{'id': 35, 'name': 'Comedy'}]</td>\n",
       "      <td>NaN</td>\n",
       "      <td>11862</td>\n",
       "      <td>tt0113041</td>\n",
       "      <td>en</td>\n",
       "      <td>Father of the Bride Part II</td>\n",
       "      <td>Just when George Banks has recovered from his ...</td>\n",
       "      <td>...</td>\n",
       "      <td>1995-02-10</td>\n",
       "      <td>76578911</td>\n",
       "      <td>106.0</td>\n",
       "      <td>[{'iso_639_1': 'en', 'name': 'English'}]</td>\n",
       "      <td>Released</td>\n",
       "      <td>Just When His World Is Back To Normal... He's ...</td>\n",
       "      <td>Father of the Bride Part II</td>\n",
       "      <td>False</td>\n",
       "      <td>5.7</td>\n",
       "      <td>173</td>\n",
       "    </tr>\n",
       "  </tbody>\n",
       "</table>\n",
       "<p>5 rows × 24 columns</p>\n",
       "</div>"
      ],
      "text/plain": [
       "   adult                              belongs_to_collection    budget  \\\n",
       "0  False  {'id': 10194, 'name': 'Toy Story Collection', ...  30000000   \n",
       "1  False                                                NaN  65000000   \n",
       "2  False  {'id': 119050, 'name': 'Grumpy Old Men Collect...         0   \n",
       "3  False                                                NaN  16000000   \n",
       "4  False  {'id': 96871, 'name': 'Father of the Bride Col...         0   \n",
       "\n",
       "                                              genres  \\\n",
       "0  [{'id': 16, 'name': 'Animation'}, {'id': 35, '...   \n",
       "1  [{'id': 12, 'name': 'Adventure'}, {'id': 14, '...   \n",
       "2  [{'id': 10749, 'name': 'Romance'}, {'id': 35, ...   \n",
       "3  [{'id': 35, 'name': 'Comedy'}, {'id': 18, 'nam...   \n",
       "4                     [{'id': 35, 'name': 'Comedy'}]   \n",
       "\n",
       "                               homepage     id    imdb_id original_language  \\\n",
       "0  http://toystory.disney.com/toy-story    862  tt0114709                en   \n",
       "1                                   NaN   8844  tt0113497                en   \n",
       "2                                   NaN  15602  tt0113228                en   \n",
       "3                                   NaN  31357  tt0114885                en   \n",
       "4                                   NaN  11862  tt0113041                en   \n",
       "\n",
       "                original_title  \\\n",
       "0                    Toy Story   \n",
       "1                      Jumanji   \n",
       "2             Grumpier Old Men   \n",
       "3            Waiting to Exhale   \n",
       "4  Father of the Bride Part II   \n",
       "\n",
       "                                            overview  ... release_date  \\\n",
       "0  Led by Woody, Andy's toys live happily in his ...  ...   1995-10-30   \n",
       "1  When siblings Judy and Peter discover an encha...  ...   1995-12-15   \n",
       "2  A family wedding reignites the ancient feud be...  ...   1995-12-22   \n",
       "3  Cheated on, mistreated and stepped on, the wom...  ...   1995-12-22   \n",
       "4  Just when George Banks has recovered from his ...  ...   1995-02-10   \n",
       "\n",
       "     revenue runtime                                   spoken_languages  \\\n",
       "0  373554033    81.0           [{'iso_639_1': 'en', 'name': 'English'}]   \n",
       "1  262797249   104.0  [{'iso_639_1': 'en', 'name': 'English'}, {'iso...   \n",
       "2          0   101.0           [{'iso_639_1': 'en', 'name': 'English'}]   \n",
       "3   81452156   127.0           [{'iso_639_1': 'en', 'name': 'English'}]   \n",
       "4   76578911   106.0           [{'iso_639_1': 'en', 'name': 'English'}]   \n",
       "\n",
       "     status                                            tagline  \\\n",
       "0  Released                                                NaN   \n",
       "1  Released          Roll the dice and unleash the excitement!   \n",
       "2  Released  Still Yelling. Still Fighting. Still Ready for...   \n",
       "3  Released  Friends are the people who let you be yourself...   \n",
       "4  Released  Just When His World Is Back To Normal... He's ...   \n",
       "\n",
       "                         title  video vote_average vote_count  \n",
       "0                    Toy Story  False          7.7       5415  \n",
       "1                      Jumanji  False          6.9       2413  \n",
       "2             Grumpier Old Men  False          6.5         92  \n",
       "3            Waiting to Exhale  False          6.1         34  \n",
       "4  Father of the Bride Part II  False          5.7        173  \n",
       "\n",
       "[5 rows x 24 columns]"
      ]
     },
     "execution_count": 7,
     "metadata": {},
     "output_type": "execute_result"
    }
   ],
   "source": [
    "movies_metadata = pd.read_csv('./movie_meta/movies_metadata.csv', sep=\",\", dtype=str)\n",
    "print(movies_metadata.shape)\n",
    "movies_metadata.head()"
   ]
  },
  {
   "cell_type": "code",
   "execution_count": 8,
   "id": "meaning-kingdom",
   "metadata": {},
   "outputs": [
    {
     "data": {
      "text/html": [
       "<div>\n",
       "<style scoped>\n",
       "    .dataframe tbody tr th:only-of-type {\n",
       "        vertical-align: middle;\n",
       "    }\n",
       "\n",
       "    .dataframe tbody tr th {\n",
       "        vertical-align: top;\n",
       "    }\n",
       "\n",
       "    .dataframe thead th {\n",
       "        text-align: right;\n",
       "    }\n",
       "</style>\n",
       "<table border=\"1\" class=\"dataframe\">\n",
       "  <thead>\n",
       "    <tr style=\"text-align: right;\">\n",
       "      <th></th>\n",
       "      <th>id</th>\n",
       "      <th>genres</th>\n",
       "      <th>title</th>\n",
       "      <th>overview</th>\n",
       "      <th>release_date</th>\n",
       "    </tr>\n",
       "  </thead>\n",
       "  <tbody>\n",
       "    <tr>\n",
       "      <th>0</th>\n",
       "      <td>862</td>\n",
       "      <td>[{'id': 16, 'name': 'Animation'}, {'id': 35, '...</td>\n",
       "      <td>Toy Story</td>\n",
       "      <td>Led by Woody, Andy's toys live happily in his ...</td>\n",
       "      <td>1995-10-30</td>\n",
       "    </tr>\n",
       "    <tr>\n",
       "      <th>1</th>\n",
       "      <td>8844</td>\n",
       "      <td>[{'id': 12, 'name': 'Adventure'}, {'id': 14, '...</td>\n",
       "      <td>Jumanji</td>\n",
       "      <td>When siblings Judy and Peter discover an encha...</td>\n",
       "      <td>1995-12-15</td>\n",
       "    </tr>\n",
       "    <tr>\n",
       "      <th>2</th>\n",
       "      <td>15602</td>\n",
       "      <td>[{'id': 10749, 'name': 'Romance'}, {'id': 35, ...</td>\n",
       "      <td>Grumpier Old Men</td>\n",
       "      <td>A family wedding reignites the ancient feud be...</td>\n",
       "      <td>1995-12-22</td>\n",
       "    </tr>\n",
       "    <tr>\n",
       "      <th>3</th>\n",
       "      <td>31357</td>\n",
       "      <td>[{'id': 35, 'name': 'Comedy'}, {'id': 18, 'nam...</td>\n",
       "      <td>Waiting to Exhale</td>\n",
       "      <td>Cheated on, mistreated and stepped on, the wom...</td>\n",
       "      <td>1995-12-22</td>\n",
       "    </tr>\n",
       "    <tr>\n",
       "      <th>4</th>\n",
       "      <td>11862</td>\n",
       "      <td>[{'id': 35, 'name': 'Comedy'}]</td>\n",
       "      <td>Father of the Bride Part II</td>\n",
       "      <td>Just when George Banks has recovered from his ...</td>\n",
       "      <td>1995-02-10</td>\n",
       "    </tr>\n",
       "  </tbody>\n",
       "</table>\n",
       "</div>"
      ],
      "text/plain": [
       "      id                                             genres  \\\n",
       "0    862  [{'id': 16, 'name': 'Animation'}, {'id': 35, '...   \n",
       "1   8844  [{'id': 12, 'name': 'Adventure'}, {'id': 14, '...   \n",
       "2  15602  [{'id': 10749, 'name': 'Romance'}, {'id': 35, ...   \n",
       "3  31357  [{'id': 35, 'name': 'Comedy'}, {'id': 18, 'nam...   \n",
       "4  11862                     [{'id': 35, 'name': 'Comedy'}]   \n",
       "\n",
       "                         title  \\\n",
       "0                    Toy Story   \n",
       "1                      Jumanji   \n",
       "2             Grumpier Old Men   \n",
       "3            Waiting to Exhale   \n",
       "4  Father of the Bride Part II   \n",
       "\n",
       "                                            overview release_date  \n",
       "0  Led by Woody, Andy's toys live happily in his ...   1995-10-30  \n",
       "1  When siblings Judy and Peter discover an encha...   1995-12-15  \n",
       "2  A family wedding reignites the ancient feud be...   1995-12-22  \n",
       "3  Cheated on, mistreated and stepped on, the wom...   1995-12-22  \n",
       "4  Just when George Banks has recovered from his ...   1995-02-10  "
      ]
     },
     "execution_count": 8,
     "metadata": {},
     "output_type": "execute_result"
    }
   ],
   "source": [
    "movies_metadata = movies_metadata[['id', 'genres', 'title', 'overview', 'release_date']]\n",
    "movies_metadata.head()"
   ]
  },
  {
   "cell_type": "code",
   "execution_count": 9,
   "id": "incomplete-botswana",
   "metadata": {},
   "outputs": [
    {
     "data": {
      "text/html": [
       "<div>\n",
       "<style scoped>\n",
       "    .dataframe tbody tr th:only-of-type {\n",
       "        vertical-align: middle;\n",
       "    }\n",
       "\n",
       "    .dataframe tbody tr th {\n",
       "        vertical-align: top;\n",
       "    }\n",
       "\n",
       "    .dataframe thead th {\n",
       "        text-align: right;\n",
       "    }\n",
       "</style>\n",
       "<table border=\"1\" class=\"dataframe\">\n",
       "  <thead>\n",
       "    <tr style=\"text-align: right;\">\n",
       "      <th></th>\n",
       "      <th>id</th>\n",
       "      <th>genres</th>\n",
       "      <th>title</th>\n",
       "      <th>overview</th>\n",
       "      <th>release_date</th>\n",
       "    </tr>\n",
       "  </thead>\n",
       "  <tbody>\n",
       "    <tr>\n",
       "      <th>0</th>\n",
       "      <td>862</td>\n",
       "      <td>[{'id': 16, 'name': 'Animation'}, {'id': 35, '...</td>\n",
       "      <td>Toy Story</td>\n",
       "      <td>Led by Woody, Andy's toys live happily in his ...</td>\n",
       "      <td>1995-10-30</td>\n",
       "    </tr>\n",
       "    <tr>\n",
       "      <th>1</th>\n",
       "      <td>8844</td>\n",
       "      <td>[{'id': 12, 'name': 'Adventure'}, {'id': 14, '...</td>\n",
       "      <td>Jumanji</td>\n",
       "      <td>When siblings Judy and Peter discover an encha...</td>\n",
       "      <td>1995-12-15</td>\n",
       "    </tr>\n",
       "    <tr>\n",
       "      <th>2</th>\n",
       "      <td>15602</td>\n",
       "      <td>[{'id': 10749, 'name': 'Romance'}, {'id': 35, ...</td>\n",
       "      <td>Grumpier Old Men</td>\n",
       "      <td>A family wedding reignites the ancient feud be...</td>\n",
       "      <td>1995-12-22</td>\n",
       "    </tr>\n",
       "    <tr>\n",
       "      <th>3</th>\n",
       "      <td>31357</td>\n",
       "      <td>[{'id': 35, 'name': 'Comedy'}, {'id': 18, 'nam...</td>\n",
       "      <td>Waiting to Exhale</td>\n",
       "      <td>Cheated on, mistreated and stepped on, the wom...</td>\n",
       "      <td>1995-12-22</td>\n",
       "    </tr>\n",
       "    <tr>\n",
       "      <th>4</th>\n",
       "      <td>11862</td>\n",
       "      <td>[{'id': 35, 'name': 'Comedy'}]</td>\n",
       "      <td>Father of the Bride Part II</td>\n",
       "      <td>Just when George Banks has recovered from his ...</td>\n",
       "      <td>1995-02-10</td>\n",
       "    </tr>\n",
       "  </tbody>\n",
       "</table>\n",
       "</div>"
      ],
      "text/plain": [
       "      id                                             genres  \\\n",
       "0    862  [{'id': 16, 'name': 'Animation'}, {'id': 35, '...   \n",
       "1   8844  [{'id': 12, 'name': 'Adventure'}, {'id': 14, '...   \n",
       "2  15602  [{'id': 10749, 'name': 'Romance'}, {'id': 35, ...   \n",
       "3  31357  [{'id': 35, 'name': 'Comedy'}, {'id': 18, 'nam...   \n",
       "4  11862                     [{'id': 35, 'name': 'Comedy'}]   \n",
       "\n",
       "                         title  \\\n",
       "0                    Toy Story   \n",
       "1                      Jumanji   \n",
       "2             Grumpier Old Men   \n",
       "3            Waiting to Exhale   \n",
       "4  Father of the Bride Part II   \n",
       "\n",
       "                                            overview release_date  \n",
       "0  Led by Woody, Andy's toys live happily in his ...   1995-10-30  \n",
       "1  When siblings Judy and Peter discover an encha...   1995-12-15  \n",
       "2  A family wedding reignites the ancient feud be...   1995-12-22  \n",
       "3  Cheated on, mistreated and stepped on, the wom...   1995-12-22  \n",
       "4  Just when George Banks has recovered from his ...   1995-02-10  "
      ]
     },
     "execution_count": 9,
     "metadata": {},
     "output_type": "execute_result"
    }
   ],
   "source": [
    "movies_metadata['genres'] = movies_metadata['genres'].apply(literal_eval)\n",
    "movies_metadata.head()"
   ]
  },
  {
   "cell_type": "markdown",
   "id": "4abd5ee3",
   "metadata": {},
   "source": [
    "## 사용할 컬럼 설정"
   ]
  },
  {
   "cell_type": "code",
   "execution_count": 10,
   "id": "collaborative-draft",
   "metadata": {},
   "outputs": [],
   "source": [
    "def get_genre(x):\n",
    "    names = [i['name'] for i in x]\n",
    "    if len(names) > 3:\n",
    "        names = names[:3]\n",
    "    return \" \".join(names)"
   ]
  },
  {
   "cell_type": "code",
   "execution_count": 11,
   "id": "informed-banana",
   "metadata": {},
   "outputs": [],
   "source": [
    "movies_metadata['genres'] = movies_metadata['genres'].apply(lambda x : get_genre(x))"
   ]
  },
  {
   "cell_type": "code",
   "execution_count": 12,
   "id": "large-reality",
   "metadata": {},
   "outputs": [
    {
     "data": {
      "text/html": [
       "<div>\n",
       "<style scoped>\n",
       "    .dataframe tbody tr th:only-of-type {\n",
       "        vertical-align: middle;\n",
       "    }\n",
       "\n",
       "    .dataframe tbody tr th {\n",
       "        vertical-align: top;\n",
       "    }\n",
       "\n",
       "    .dataframe thead th {\n",
       "        text-align: right;\n",
       "    }\n",
       "</style>\n",
       "<table border=\"1\" class=\"dataframe\">\n",
       "  <thead>\n",
       "    <tr style=\"text-align: right;\">\n",
       "      <th></th>\n",
       "      <th>id</th>\n",
       "      <th>genres</th>\n",
       "      <th>title</th>\n",
       "      <th>overview</th>\n",
       "      <th>release_date</th>\n",
       "    </tr>\n",
       "  </thead>\n",
       "  <tbody>\n",
       "    <tr>\n",
       "      <th>0</th>\n",
       "      <td>862</td>\n",
       "      <td>Animation Comedy Family</td>\n",
       "      <td>Toy Story</td>\n",
       "      <td>Led by Woody, Andy's toys live happily in his ...</td>\n",
       "      <td>1995-10-30</td>\n",
       "    </tr>\n",
       "    <tr>\n",
       "      <th>1</th>\n",
       "      <td>8844</td>\n",
       "      <td>Adventure Fantasy Family</td>\n",
       "      <td>Jumanji</td>\n",
       "      <td>When siblings Judy and Peter discover an encha...</td>\n",
       "      <td>1995-12-15</td>\n",
       "    </tr>\n",
       "    <tr>\n",
       "      <th>2</th>\n",
       "      <td>15602</td>\n",
       "      <td>Romance Comedy</td>\n",
       "      <td>Grumpier Old Men</td>\n",
       "      <td>A family wedding reignites the ancient feud be...</td>\n",
       "      <td>1995-12-22</td>\n",
       "    </tr>\n",
       "    <tr>\n",
       "      <th>3</th>\n",
       "      <td>31357</td>\n",
       "      <td>Comedy Drama Romance</td>\n",
       "      <td>Waiting to Exhale</td>\n",
       "      <td>Cheated on, mistreated and stepped on, the wom...</td>\n",
       "      <td>1995-12-22</td>\n",
       "    </tr>\n",
       "    <tr>\n",
       "      <th>4</th>\n",
       "      <td>11862</td>\n",
       "      <td>Comedy</td>\n",
       "      <td>Father of the Bride Part II</td>\n",
       "      <td>Just when George Banks has recovered from his ...</td>\n",
       "      <td>1995-02-10</td>\n",
       "    </tr>\n",
       "  </tbody>\n",
       "</table>\n",
       "</div>"
      ],
      "text/plain": [
       "      id                    genres                        title  \\\n",
       "0    862   Animation Comedy Family                    Toy Story   \n",
       "1   8844  Adventure Fantasy Family                      Jumanji   \n",
       "2  15602            Romance Comedy             Grumpier Old Men   \n",
       "3  31357      Comedy Drama Romance            Waiting to Exhale   \n",
       "4  11862                    Comedy  Father of the Bride Part II   \n",
       "\n",
       "                                            overview release_date  \n",
       "0  Led by Woody, Andy's toys live happily in his ...   1995-10-30  \n",
       "1  When siblings Judy and Peter discover an encha...   1995-12-15  \n",
       "2  A family wedding reignites the ancient feud be...   1995-12-22  \n",
       "3  Cheated on, mistreated and stepped on, the wom...   1995-12-22  \n",
       "4  Just when George Banks has recovered from his ...   1995-02-10  "
      ]
     },
     "execution_count": 12,
     "metadata": {},
     "output_type": "execute_result"
    }
   ],
   "source": [
    "movies_metadata.head()"
   ]
  },
  {
   "cell_type": "code",
   "execution_count": 13,
   "id": "special-florist",
   "metadata": {},
   "outputs": [
    {
     "data": {
      "text/plain": [
       "index            0\n",
       "id               0\n",
       "genres           0\n",
       "title            0\n",
       "overview         0\n",
       "release_date    71\n",
       "dtype: int64"
      ]
     },
     "execution_count": 13,
     "metadata": {},
     "output_type": "execute_result"
    }
   ],
   "source": [
    "movies_metadata = movies_metadata[movies_metadata['overview'].notnull()]\n",
    "movies_metadata = movies_metadata[movies_metadata['title'].notnull()]\n",
    "movies_metadata.isna().sum()"
   ]
  },
  {
   "cell_type": "code",
   "execution_count": 14,
   "id": "related-rubber",
   "metadata": {},
   "outputs": [],
   "source": [
    "movies_metadata['feature'] = movies_metadata['genres'] + \" / \" + movies_metadata['title'] + \" / \" + movies_metadata['overview']"
   ]
  },
  {
   "cell_type": "markdown",
   "id": "beginning-insured",
   "metadata": {},
   "source": [
    "# HuggingFace embedding"
   ]
  },
  {
   "cell_type": "code",
   "execution_count": 18,
   "id": "1d862f87",
   "metadata": {},
   "outputs": [
    {
     "data": {
      "text/plain": [
       "SentenceTransformer(\n",
       "  (0): Transformer({'max_seq_length': 128, 'do_lower_case': False}) with Transformer model: DistilBertModel \n",
       "  (1): Pooling({'word_embedding_dimension': 768, 'pooling_mode_cls_token': False, 'pooling_mode_mean_tokens': True, 'pooling_mode_max_tokens': False, 'pooling_mode_mean_sqrt_len_tokens': False})\n",
       "  (2): Dense({'in_features': 768, 'out_features': 512, 'bias': True, 'activation_function': 'torch.nn.modules.activation.Tanh'})\n",
       ")"
      ]
     },
     "execution_count": 18,
     "metadata": {},
     "output_type": "execute_result"
    }
   ],
   "source": [
    "if cur_os.startswith('win'):\n",
    "    model = SentenceTransformer(f'{model_path}/distiluse-base-multilingual-cased-v2')    \n",
    "else:\n",
    "    model = SentenceTransformer(\"sentence-transformers/distiluse-base-multilingual-cased-v2\")\n",
    "\n",
    "model"
   ]
  },
  {
   "cell_type": "code",
   "execution_count": 24,
   "id": "23090b67",
   "metadata": {},
   "outputs": [
    {
     "data": {
      "text/plain": [
       "(44506, 10)"
      ]
     },
     "execution_count": 24,
     "metadata": {},
     "output_type": "execute_result"
    }
   ],
   "source": [
    "movies_metadata['hf_embeddings'] = movies_metadata['feature'].apply(lambda x : model.encode(x))\n",
    "movies_metadata.shape"
   ]
  },
  {
   "cell_type": "code",
   "execution_count": 48,
   "id": "infinite-sudan",
   "metadata": {},
   "outputs": [
    {
     "name": "stdout",
     "output_type": "stream",
     "text": [
      "(44506, 9)\n"
     ]
    },
    {
     "data": {
      "text/html": [
       "<div>\n",
       "<style scoped>\n",
       "    .dataframe tbody tr th:only-of-type {\n",
       "        vertical-align: middle;\n",
       "    }\n",
       "\n",
       "    .dataframe tbody tr th {\n",
       "        vertical-align: top;\n",
       "    }\n",
       "\n",
       "    .dataframe thead th {\n",
       "        text-align: right;\n",
       "    }\n",
       "</style>\n",
       "<table border=\"1\" class=\"dataframe\">\n",
       "  <thead>\n",
       "    <tr style=\"text-align: right;\">\n",
       "      <th></th>\n",
       "      <th>id</th>\n",
       "      <th>genres</th>\n",
       "      <th>title</th>\n",
       "      <th>overview</th>\n",
       "      <th>release_date</th>\n",
       "      <th>feature</th>\n",
       "      <th>text_len</th>\n",
       "      <th>feature_len</th>\n",
       "      <th>hf_embeddings</th>\n",
       "    </tr>\n",
       "  </thead>\n",
       "  <tbody>\n",
       "    <tr>\n",
       "      <th>0</th>\n",
       "      <td>862</td>\n",
       "      <td>Animation Comedy Family</td>\n",
       "      <td>Toy Story</td>\n",
       "      <td>Led by Woody, Andy's toys live happily in his ...</td>\n",
       "      <td>1995-10-30</td>\n",
       "      <td>Animation Comedy Family / Toy Story / Led by W...</td>\n",
       "      <td>303</td>\n",
       "      <td>341</td>\n",
       "      <td>[-0.047183443, -0.02021129, 0.096098304, -0.05...</td>\n",
       "    </tr>\n",
       "    <tr>\n",
       "      <th>1</th>\n",
       "      <td>8844</td>\n",
       "      <td>Adventure Fantasy Family</td>\n",
       "      <td>Jumanji</td>\n",
       "      <td>When siblings Judy and Peter discover an encha...</td>\n",
       "      <td>1995-12-15</td>\n",
       "      <td>Adventure Fantasy Family / Jumanji / When sibl...</td>\n",
       "      <td>395</td>\n",
       "      <td>432</td>\n",
       "      <td>[0.0013290617, -0.0071765357, 0.048141554, -0....</td>\n",
       "    </tr>\n",
       "    <tr>\n",
       "      <th>2</th>\n",
       "      <td>15602</td>\n",
       "      <td>Romance Comedy</td>\n",
       "      <td>Grumpier Old Men</td>\n",
       "      <td>A family wedding reignites the ancient feud be...</td>\n",
       "      <td>1995-12-22</td>\n",
       "      <td>Romance Comedy / Grumpier Old Men / A family w...</td>\n",
       "      <td>327</td>\n",
       "      <td>363</td>\n",
       "      <td>[-0.06425337, -0.008573138, -0.10116352, -0.00...</td>\n",
       "    </tr>\n",
       "    <tr>\n",
       "      <th>3</th>\n",
       "      <td>31357</td>\n",
       "      <td>Comedy Drama Romance</td>\n",
       "      <td>Waiting to Exhale</td>\n",
       "      <td>Cheated on, mistreated and stepped on, the wom...</td>\n",
       "      <td>1995-12-22</td>\n",
       "      <td>Comedy Drama Romance / Waiting to Exhale / Che...</td>\n",
       "      <td>270</td>\n",
       "      <td>313</td>\n",
       "      <td>[-0.032623984, -0.03347266, 0.02557934, -0.033...</td>\n",
       "    </tr>\n",
       "    <tr>\n",
       "      <th>4</th>\n",
       "      <td>11862</td>\n",
       "      <td>Comedy</td>\n",
       "      <td>Father of the Bride Part II</td>\n",
       "      <td>Just when George Banks has recovered from his ...</td>\n",
       "      <td>1995-02-10</td>\n",
       "      <td>Comedy / Father of the Bride Part II / Just wh...</td>\n",
       "      <td>318</td>\n",
       "      <td>357</td>\n",
       "      <td>[0.03181218, -0.0038158156, 0.02099277, 0.0031...</td>\n",
       "    </tr>\n",
       "  </tbody>\n",
       "</table>\n",
       "</div>"
      ],
      "text/plain": [
       "      id                    genres                        title  \\\n",
       "0    862   Animation Comedy Family                    Toy Story   \n",
       "1   8844  Adventure Fantasy Family                      Jumanji   \n",
       "2  15602            Romance Comedy             Grumpier Old Men   \n",
       "3  31357      Comedy Drama Romance            Waiting to Exhale   \n",
       "4  11862                    Comedy  Father of the Bride Part II   \n",
       "\n",
       "                                            overview release_date  \\\n",
       "0  Led by Woody, Andy's toys live happily in his ...   1995-10-30   \n",
       "1  When siblings Judy and Peter discover an encha...   1995-12-15   \n",
       "2  A family wedding reignites the ancient feud be...   1995-12-22   \n",
       "3  Cheated on, mistreated and stepped on, the wom...   1995-12-22   \n",
       "4  Just when George Banks has recovered from his ...   1995-02-10   \n",
       "\n",
       "                                             feature  text_len  feature_len  \\\n",
       "0  Animation Comedy Family / Toy Story / Led by W...       303          341   \n",
       "1  Adventure Fantasy Family / Jumanji / When sibl...       395          432   \n",
       "2  Romance Comedy / Grumpier Old Men / A family w...       327          363   \n",
       "3  Comedy Drama Romance / Waiting to Exhale / Che...       270          313   \n",
       "4  Comedy / Father of the Bride Part II / Just wh...       318          357   \n",
       "\n",
       "                                       hf_embeddings  \n",
       "0  [-0.047183443, -0.02021129, 0.096098304, -0.05...  \n",
       "1  [0.0013290617, -0.0071765357, 0.048141554, -0....  \n",
       "2  [-0.06425337, -0.008573138, -0.10116352, -0.00...  \n",
       "3  [-0.032623984, -0.03347266, 0.02557934, -0.033...  \n",
       "4  [0.03181218, -0.0038158156, 0.02099277, 0.0031...  "
      ]
     },
     "execution_count": 48,
     "metadata": {},
     "output_type": "execute_result"
    }
   ],
   "source": [
    "print(movies_metadata.shape)\n",
    "movies_metadata.head()"
   ]
  },
  {
   "cell_type": "code",
   "execution_count": 49,
   "id": "exotic-circuit",
   "metadata": {},
   "outputs": [],
   "source": [
    "movies_metadata.to_csv('./movie_meta/movies_metadata_em.csv')"
   ]
  },
  {
   "cell_type": "markdown",
   "id": "entertaining-surge",
   "metadata": {},
   "source": [
    "# OpenAI Embedding"
   ]
  },
  {
   "cell_type": "code",
   "execution_count": 26,
   "id": "streaming-ultimate",
   "metadata": {},
   "outputs": [],
   "source": [
    "openai_embedding_model = \"text-embedding-ada-002\""
   ]
  },
  {
   "cell_type": "code",
   "execution_count": 27,
   "id": "progressive-amino",
   "metadata": {},
   "outputs": [],
   "source": [
    "def get_doc_embedding(text: str) -> List[float]:\n",
    "    return get_embedding(text, openai_embedding_model)"
   ]
  },
  {
   "cell_type": "code",
   "execution_count": 28,
   "id": "posted-creator",
   "metadata": {},
   "outputs": [],
   "source": [
    "def get_embedding(text: str, model: str) -> List[float]:\n",
    "    result = openai.Embedding.create(\n",
    "      model=model,\n",
    "      input=text)\n",
    "    return result[\"data\"][0][\"embedding\"]"
   ]
  },
  {
   "cell_type": "code",
   "execution_count": 29,
   "id": "refined-hotel",
   "metadata": {},
   "outputs": [],
   "source": [
    "# movies_metadata['openai_embeddings'] = movies_metadata['feature'].apply(lambda x : get_embedding(x, openai_embedding_model))"
   ]
  },
  {
   "cell_type": "code",
   "execution_count": null,
   "id": "uniform-bernard",
   "metadata": {},
   "outputs": [],
   "source": []
  },
  {
   "cell_type": "code",
   "execution_count": null,
   "id": "contemporary-tobago",
   "metadata": {},
   "outputs": [],
   "source": []
  },
  {
   "cell_type": "markdown",
   "id": "talented-landing",
   "metadata": {},
   "source": [
    "# Query와 비슷한 앱"
   ]
  },
  {
   "cell_type": "code",
   "execution_count": 30,
   "id": "prime-independence",
   "metadata": {},
   "outputs": [],
   "source": [
    "top_k = 5"
   ]
  },
  {
   "cell_type": "code",
   "execution_count": 671,
   "id": "dedicated-basin",
   "metadata": {},
   "outputs": [],
   "source": [
    "def get_query_sim_top_k(query, model, df, top_k):\n",
    "    query_encode = model.encode(query)\n",
    "    cos_scores = util.pytorch_cos_sim(query_encode, df['hf_embeddings'])[0]\n",
    "    top_results = torch.topk(cos_scores, k=top_k)\n",
    "    return top_results"
   ]
  },
  {
   "cell_type": "code",
   "execution_count": 32,
   "id": "romantic-category",
   "metadata": {},
   "outputs": [
    {
     "name": "stderr",
     "output_type": "stream",
     "text": [
      "/Users/leesoojin/opt/anaconda3/envs/openai/lib/python3.8/site-packages/sentence_transformers/util.py:39: UserWarning: Creating a tensor from a list of numpy.ndarrays is extremely slow. Please consider converting the list to a single numpy.ndarray with numpy.array() before converting to a tensor. (Triggered internally at /Users/runner/work/pytorch/pytorch/pytorch/torch/csrc/utils/tensor_new.cpp:233.)\n",
      "  b = torch.tensor(b)\n"
     ]
    }
   ],
   "source": [
    "query = \"Are there any documentary films?\"\n",
    "top_result = get_query_sim_top_k(query, model, movies_metadata)"
   ]
  },
  {
   "cell_type": "code",
   "execution_count": 33,
   "id": "provincial-floor",
   "metadata": {},
   "outputs": [
    {
     "data": {
      "text/plain": [
       "torch.return_types.topk(\n",
       "values=tensor([0.5390, 0.5117, 0.5093, 0.5067, 0.4992]),\n",
       "indices=tensor([24020, 10124, 22428, 35263, 22273]))"
      ]
     },
     "execution_count": 33,
     "metadata": {},
     "output_type": "execute_result"
    }
   ],
   "source": [
    "top_result"
   ]
  },
  {
   "cell_type": "code",
   "execution_count": 34,
   "id": "continuing-pasta",
   "metadata": {},
   "outputs": [
    {
     "data": {
      "text/html": [
       "<div>\n",
       "<style scoped>\n",
       "    .dataframe tbody tr th:only-of-type {\n",
       "        vertical-align: middle;\n",
       "    }\n",
       "\n",
       "    .dataframe tbody tr th {\n",
       "        vertical-align: top;\n",
       "    }\n",
       "\n",
       "    .dataframe thead th {\n",
       "        text-align: right;\n",
       "    }\n",
       "</style>\n",
       "<table border=\"1\" class=\"dataframe\">\n",
       "  <thead>\n",
       "    <tr style=\"text-align: right;\">\n",
       "      <th></th>\n",
       "      <th>title</th>\n",
       "      <th>overview</th>\n",
       "      <th>genres</th>\n",
       "    </tr>\n",
       "  </thead>\n",
       "  <tbody>\n",
       "    <tr>\n",
       "      <th>24020</th>\n",
       "      <td>The 50 Worst Movies Ever Made</td>\n",
       "      <td>There are some movies that are so bad they're ...</td>\n",
       "      <td>Documentary</td>\n",
       "    </tr>\n",
       "    <tr>\n",
       "      <th>10124</th>\n",
       "      <td>Trekkies 2</td>\n",
       "      <td>sequel to the 1997 documentary film Trekkies.</td>\n",
       "      <td>Documentary</td>\n",
       "    </tr>\n",
       "    <tr>\n",
       "      <th>22428</th>\n",
       "      <td>The Spanish Earth</td>\n",
       "      <td>A propaganda film made during the Spanish Civi...</td>\n",
       "      <td>War Documentary</td>\n",
       "    </tr>\n",
       "    <tr>\n",
       "      <th>35263</th>\n",
       "      <td>Tomorrow</td>\n",
       "      <td>Documentary film about global warming.</td>\n",
       "      <td>Documentary</td>\n",
       "    </tr>\n",
       "    <tr>\n",
       "      <th>22273</th>\n",
       "      <td>I Know That Voice</td>\n",
       "      <td>A documentary about voice-over actors.</td>\n",
       "      <td>Documentary</td>\n",
       "    </tr>\n",
       "  </tbody>\n",
       "</table>\n",
       "</div>"
      ],
      "text/plain": [
       "                               title  \\\n",
       "24020  The 50 Worst Movies Ever Made   \n",
       "10124                     Trekkies 2   \n",
       "22428              The Spanish Earth   \n",
       "35263                       Tomorrow   \n",
       "22273              I Know That Voice   \n",
       "\n",
       "                                                overview           genres  \n",
       "24020  There are some movies that are so bad they're ...      Documentary  \n",
       "10124      sequel to the 1997 documentary film Trekkies.      Documentary  \n",
       "22428  A propaganda film made during the Spanish Civi...  War Documentary  \n",
       "35263             Documentary film about global warming.      Documentary  \n",
       "22273             A documentary about voice-over actors.      Documentary  "
      ]
     },
     "execution_count": 34,
     "metadata": {},
     "output_type": "execute_result"
    }
   ],
   "source": [
    "movies_metadata.iloc[top_result[1].numpy(), :][['title', 'overview', 'genres']]"
   ]
  },
  {
   "cell_type": "code",
   "execution_count": null,
   "id": "portable-racing",
   "metadata": {},
   "outputs": [],
   "source": []
  },
  {
   "cell_type": "code",
   "execution_count": 35,
   "id": "joined-monday",
   "metadata": {},
   "outputs": [
    {
     "data": {
      "text/html": [
       "<div>\n",
       "<style scoped>\n",
       "    .dataframe tbody tr th:only-of-type {\n",
       "        vertical-align: middle;\n",
       "    }\n",
       "\n",
       "    .dataframe tbody tr th {\n",
       "        vertical-align: top;\n",
       "    }\n",
       "\n",
       "    .dataframe thead th {\n",
       "        text-align: right;\n",
       "    }\n",
       "</style>\n",
       "<table border=\"1\" class=\"dataframe\">\n",
       "  <thead>\n",
       "    <tr style=\"text-align: right;\">\n",
       "      <th></th>\n",
       "      <th>title</th>\n",
       "      <th>overview</th>\n",
       "      <th>genres</th>\n",
       "    </tr>\n",
       "  </thead>\n",
       "  <tbody>\n",
       "    <tr>\n",
       "      <th>38573</th>\n",
       "      <td>Catastrophe</td>\n",
       "      <td>A film cataloguing some of the world's largest...</td>\n",
       "      <td>Thriller Documentary</td>\n",
       "    </tr>\n",
       "    <tr>\n",
       "      <th>11441</th>\n",
       "      <td>When the Levees Broke: A Requiem in Four Acts</td>\n",
       "      <td>In August 2005, the American city of New Orlea...</td>\n",
       "      <td>Documentary</td>\n",
       "    </tr>\n",
       "    <tr>\n",
       "      <th>2404</th>\n",
       "      <td>Earthquake</td>\n",
       "      <td>Earthquake is a 1974 American disaster film th...</td>\n",
       "      <td>Action Drama Thriller</td>\n",
       "    </tr>\n",
       "    <tr>\n",
       "      <th>35263</th>\n",
       "      <td>Tomorrow</td>\n",
       "      <td>Documentary film about global warming.</td>\n",
       "      <td>Documentary</td>\n",
       "    </tr>\n",
       "    <tr>\n",
       "      <th>41943</th>\n",
       "      <td>Disaster!</td>\n",
       "      <td>A spoof of disaster films, an asteroid is comi...</td>\n",
       "      <td>Action Animation Comedy</td>\n",
       "    </tr>\n",
       "  </tbody>\n",
       "</table>\n",
       "</div>"
      ],
      "text/plain": [
       "                                               title  \\\n",
       "38573                                    Catastrophe   \n",
       "11441  When the Levees Broke: A Requiem in Four Acts   \n",
       "2404                                      Earthquake   \n",
       "35263                                       Tomorrow   \n",
       "41943                                      Disaster!   \n",
       "\n",
       "                                                overview  \\\n",
       "38573  A film cataloguing some of the world's largest...   \n",
       "11441  In August 2005, the American city of New Orlea...   \n",
       "2404   Earthquake is a 1974 American disaster film th...   \n",
       "35263             Documentary film about global warming.   \n",
       "41943  A spoof of disaster films, an asteroid is comi...   \n",
       "\n",
       "                        genres  \n",
       "38573     Thriller Documentary  \n",
       "11441              Documentary  \n",
       "2404     Action Drama Thriller  \n",
       "35263              Documentary  \n",
       "41943  Action Animation Comedy  "
      ]
     },
     "execution_count": 35,
     "metadata": {},
     "output_type": "execute_result"
    }
   ],
   "source": [
    "query = \"Are there any movies about natural disasters?\"\n",
    "top_result = get_query_sim_top_k(query, model, movies_metadata)\n",
    "movies_metadata.iloc[top_result[1].numpy(), :][['title', 'overview', 'genres']]"
   ]
  },
  {
   "cell_type": "code",
   "execution_count": 36,
   "id": "serious-serbia",
   "metadata": {},
   "outputs": [
    {
     "data": {
      "text/html": [
       "<div>\n",
       "<style scoped>\n",
       "    .dataframe tbody tr th:only-of-type {\n",
       "        vertical-align: middle;\n",
       "    }\n",
       "\n",
       "    .dataframe tbody tr th {\n",
       "        vertical-align: top;\n",
       "    }\n",
       "\n",
       "    .dataframe thead th {\n",
       "        text-align: right;\n",
       "    }\n",
       "</style>\n",
       "<table border=\"1\" class=\"dataframe\">\n",
       "  <thead>\n",
       "    <tr style=\"text-align: right;\">\n",
       "      <th></th>\n",
       "      <th>title</th>\n",
       "      <th>overview</th>\n",
       "      <th>genres</th>\n",
       "    </tr>\n",
       "  </thead>\n",
       "  <tbody>\n",
       "    <tr>\n",
       "      <th>36936</th>\n",
       "      <td>The Flying Man</td>\n",
       "      <td>A new superhero is coming, only this time it's...</td>\n",
       "      <td>Action Mystery Science Fiction</td>\n",
       "    </tr>\n",
       "    <tr>\n",
       "      <th>30101</th>\n",
       "      <td>Up, Up, and Away</td>\n",
       "      <td>A boy is the only family member without superp...</td>\n",
       "      <td>Action Family TV Movie</td>\n",
       "    </tr>\n",
       "    <tr>\n",
       "      <th>24646</th>\n",
       "      <td>The Four Feathers</td>\n",
       "      <td>They made him a hero by branding him a coward ...</td>\n",
       "      <td>TV Movie Adventure Drama</td>\n",
       "    </tr>\n",
       "    <tr>\n",
       "      <th>12672</th>\n",
       "      <td>Hancock</td>\n",
       "      <td>Hancock is a down-and-out superhero who's forc...</td>\n",
       "      <td>Fantasy Action</td>\n",
       "    </tr>\n",
       "    <tr>\n",
       "      <th>4216</th>\n",
       "      <td>Too Late the Hero</td>\n",
       "      <td>A WWII film set on a Pacific island. Japanese ...</td>\n",
       "      <td>Drama Action War</td>\n",
       "    </tr>\n",
       "  </tbody>\n",
       "</table>\n",
       "</div>"
      ],
      "text/plain": [
       "                   title                                           overview  \\\n",
       "36936     The Flying Man  A new superhero is coming, only this time it's...   \n",
       "30101   Up, Up, and Away  A boy is the only family member without superp...   \n",
       "24646  The Four Feathers  They made him a hero by branding him a coward ...   \n",
       "12672            Hancock  Hancock is a down-and-out superhero who's forc...   \n",
       "4216   Too Late the Hero  A WWII film set on a Pacific island. Japanese ...   \n",
       "\n",
       "                               genres  \n",
       "36936  Action Mystery Science Fiction  \n",
       "30101          Action Family TV Movie  \n",
       "24646        TV Movie Adventure Drama  \n",
       "12672                  Fantasy Action  \n",
       "4216                 Drama Action War  "
      ]
     },
     "execution_count": 36,
     "metadata": {},
     "output_type": "execute_result"
    }
   ],
   "source": [
    "query = \"Are there any movies about heros?\"\n",
    "top_result = get_query_sim_top_k(query, model, movies_metadata)\n",
    "movies_metadata.iloc[top_result[1].numpy(), :][['title', 'overview', 'genres']]"
   ]
  },
  {
   "cell_type": "markdown",
   "id": "burning-venice",
   "metadata": {},
   "source": [
    "https://www.imdb.com/title/tt0211174/?ref_=fn_al_tt_1"
   ]
  },
  {
   "cell_type": "markdown",
   "id": "painful-drama",
   "metadata": {},
   "source": [
    "# ChatGPT 이용\n",
    "\n",
    "- 2개의 chatgpt 이용\n",
    "    - 1개는 이 질문의 의도를 파악하는 것. 설명을 원하는 것인지, 추천을 해달라는 것인지\n",
    "    - 각 분류에 따라 문구가 달라짐\n",
    "        - 질문의 의도면 가장 유사한 텍스트를 가져와서 설명해주는 것\n",
    "        - 추천이면, cossim topk를 가져와서 출력하도록"
   ]
  },
  {
   "cell_type": "code",
   "execution_count": null,
   "id": "controlled-religion",
   "metadata": {},
   "outputs": [],
   "source": []
  },
  {
   "cell_type": "code",
   "execution_count": 37,
   "id": "greater-underwear",
   "metadata": {},
   "outputs": [],
   "source": [
    "def print_msg(msg):\n",
    "    completion = openai.ChatCompletion.create(\n",
    "                    model=\"gpt-3.5-turbo\",\n",
    "                    messages=msg\n",
    "                    )\n",
    "    return completion['choices'][0]['message']['content']"
   ]
  },
  {
   "cell_type": "markdown",
   "id": "a356862b",
   "metadata": {},
   "source": [
    "## Prompt test"
   ]
  },
  {
   "cell_type": "code",
   "execution_count": 38,
   "id": "synthetic-touch",
   "metadata": {},
   "outputs": [
    {
     "data": {
      "text/plain": [
       "'description'"
      ]
     },
     "execution_count": 38,
     "metadata": {},
     "output_type": "execute_result"
    }
   ],
   "source": [
    "messages = [\n",
    "    {\"role\": \"system\", \"content\": \"You are a helpful assistant who understands the intent of the user's question.\"},\n",
    "    {\"role\": \"user\", \"content\": \"Which category does the sentence below belong to: 'description', 'recommended'? Show only categories. \\n context: tell me about instagram \\n A:\"}\n",
    "]\n",
    "\n",
    "\n",
    "print_msg(messages)"
   ]
  },
  {
   "cell_type": "code",
   "execution_count": 39,
   "id": "powerful-savings",
   "metadata": {},
   "outputs": [
    {
     "data": {
      "text/plain": [
       "'recommend'"
      ]
     },
     "execution_count": 39,
     "metadata": {},
     "output_type": "execute_result"
    }
   ],
   "source": [
    "messages = [\n",
    "    {\"role\": \"system\", \"content\": \"You are a helpful assistant who understands the intent of the user's question.\"},\n",
    "    {\"role\": \"user\", \"content\": \"Which category does the sentence below belong to: 'description', 'recommend'? Show only categories. \\n context: What apps are similar to Instagram? \\n A:\"}\n",
    "]\n",
    "\n",
    "\n",
    "print_msg(messages)\n",
    "\n"
   ]
  },
  {
   "cell_type": "code",
   "execution_count": 40,
   "id": "still-outdoors",
   "metadata": {},
   "outputs": [
    {
     "data": {
      "text/plain": [
       "'recommend'"
      ]
     },
     "execution_count": 40,
     "metadata": {},
     "output_type": "execute_result"
    }
   ],
   "source": [
    "messages = [\n",
    "    {\"role\": \"system\", \"content\": \"You are a helpful assistant who understands the intent of the user's question.\"},\n",
    "    {\"role\": \"user\", \"content\": \"Which category does the sentence below belong to: 'description', 'recommend'? Show only categories. \\n context: Recommend apps similar to Instagram. \\n A:\"}\n",
    "]\n",
    "\n",
    "\n",
    "print_msg(messages)"
   ]
  },
  {
   "cell_type": "code",
   "execution_count": null,
   "id": "manual-violin",
   "metadata": {},
   "outputs": [],
   "source": []
  },
  {
   "cell_type": "code",
   "execution_count": 41,
   "id": "equal-income",
   "metadata": {},
   "outputs": [
    {
     "data": {
      "text/plain": [
       "'Here are some apps similar to Instagram that you might want to check out:'"
      ]
     },
     "execution_count": 41,
     "metadata": {},
     "output_type": "execute_result"
    }
   ],
   "source": [
    "messages = [\n",
    "    {\"role\": \"system\", \"content\": \"You are a helpful assistant who recommend contents.\"},\n",
    "    {\"role\": \"user\", \"content\": \"Simply repeat the provided context and put a sentence in front of the context. \\n context: Recommend apps similar to Instagram.\"}\n",
    "]\n",
    "\n",
    "\n",
    "print_msg(messages)"
   ]
  },
  {
   "cell_type": "code",
   "execution_count": 42,
   "id": "saving-lincoln",
   "metadata": {},
   "outputs": [
    {
     "data": {
      "text/plain": [
       "'Here are some apps like Instagram that you might find helpful!'"
      ]
     },
     "execution_count": 42,
     "metadata": {},
     "output_type": "execute_result"
    }
   ],
   "source": [
    "messages = [\n",
    "    {\"role\": \"system\", \"content\": \"You are a helpful assistant who recommend contents.\"},\n",
    "    {\"role\": \"user\", \"content\": \"Simplify the sentences for recommending services \\n context: Recommend apps similar to Instagram.\"}\n",
    "]\n",
    "\n",
    "\n",
    "print_msg(messages)"
   ]
  },
  {
   "cell_type": "code",
   "execution_count": 43,
   "id": "interstate-director",
   "metadata": {},
   "outputs": [
    {
     "data": {
      "text/plain": [
       "\"Of course! I'd be happy to explain the item to you.\""
      ]
     },
     "execution_count": 43,
     "metadata": {},
     "output_type": "execute_result"
    }
   ],
   "source": [
    "messages = [\n",
    "    {\"role\": \"system\", \"content\": \"You are a helpful assistant who kindly answers.\"},\n",
    "    {\"role\": \"user\", \"content\": \"Please write a simple greeting starting with 'of course' to explain the item to the user.\"}\n",
    "]\n",
    "\n",
    "\n",
    "print_msg(messages)"
   ]
  },
  {
   "cell_type": "code",
   "execution_count": 44,
   "id": "introductory-phrase",
   "metadata": {},
   "outputs": [
    {
     "data": {
      "text/plain": [
       "\"Of course! I'd be happy to recommend some great items for you.\""
      ]
     },
     "execution_count": 44,
     "metadata": {},
     "output_type": "execute_result"
    }
   ],
   "source": [
    "messages = [\n",
    "    {\"role\": \"system\", \"content\": \"You are a helpful assistant who recommend contents based on user question.\"},\n",
    "    {\"role\": \"user\", \"content\": \"Write 1 sentence of a simple greeting that starts with 'Of course!' to recommend items to users.\"}\n",
    "]\n",
    "\n",
    "\n",
    "print_msg(messages)"
   ]
  },
  {
   "cell_type": "code",
   "execution_count": 103,
   "id": "f4b35964",
   "metadata": {},
   "outputs": [
    {
     "data": {
      "text/html": [
       "<div>\n",
       "<style scoped>\n",
       "    .dataframe tbody tr th:only-of-type {\n",
       "        vertical-align: middle;\n",
       "    }\n",
       "\n",
       "    .dataframe tbody tr th {\n",
       "        vertical-align: top;\n",
       "    }\n",
       "\n",
       "    .dataframe thead th {\n",
       "        text-align: right;\n",
       "    }\n",
       "</style>\n",
       "<table border=\"1\" class=\"dataframe\">\n",
       "  <thead>\n",
       "    <tr style=\"text-align: right;\">\n",
       "      <th></th>\n",
       "      <th>title</th>\n",
       "      <th>overview</th>\n",
       "      <th>genres</th>\n",
       "    </tr>\n",
       "  </thead>\n",
       "  <tbody>\n",
       "    <tr>\n",
       "      <th>36936</th>\n",
       "      <td>The Flying Man</td>\n",
       "      <td>A new superhero is coming, only this time it's...</td>\n",
       "      <td>Action Mystery Science Fiction</td>\n",
       "    </tr>\n",
       "    <tr>\n",
       "      <th>30101</th>\n",
       "      <td>Up, Up, and Away</td>\n",
       "      <td>A boy is the only family member without superp...</td>\n",
       "      <td>Action Family TV Movie</td>\n",
       "    </tr>\n",
       "    <tr>\n",
       "      <th>24646</th>\n",
       "      <td>The Four Feathers</td>\n",
       "      <td>They made him a hero by branding him a coward ...</td>\n",
       "      <td>TV Movie Adventure Drama</td>\n",
       "    </tr>\n",
       "    <tr>\n",
       "      <th>12672</th>\n",
       "      <td>Hancock</td>\n",
       "      <td>Hancock is a down-and-out superhero who's forc...</td>\n",
       "      <td>Fantasy Action</td>\n",
       "    </tr>\n",
       "    <tr>\n",
       "      <th>4216</th>\n",
       "      <td>Too Late the Hero</td>\n",
       "      <td>A WWII film set on a Pacific island. Japanese ...</td>\n",
       "      <td>Drama Action War</td>\n",
       "    </tr>\n",
       "  </tbody>\n",
       "</table>\n",
       "</div>"
      ],
      "text/plain": [
       "                   title                                           overview  \\\n",
       "36936     The Flying Man  A new superhero is coming, only this time it's...   \n",
       "30101   Up, Up, and Away  A boy is the only family member without superp...   \n",
       "24646  The Four Feathers  They made him a hero by branding him a coward ...   \n",
       "12672            Hancock  Hancock is a down-and-out superhero who's forc...   \n",
       "4216   Too Late the Hero  A WWII film set on a Pacific island. Japanese ...   \n",
       "\n",
       "                               genres  \n",
       "36936  Action Mystery Science Fiction  \n",
       "30101          Action Family TV Movie  \n",
       "24646        TV Movie Adventure Drama  \n",
       "12672                  Fantasy Action  \n",
       "4216                 Drama Action War  "
      ]
     },
     "execution_count": 103,
     "metadata": {},
     "output_type": "execute_result"
    }
   ],
   "source": [
    "movies_metadata.iloc[top_result[1].numpy(), :][['title', 'overview', 'genres']]"
   ]
  },
  {
   "cell_type": "markdown",
   "id": "34ee1584",
   "metadata": {},
   "source": [
    "## 필요한 Prompt 설정\n",
    "\n",
    "- 추천인가? 설명인가? 의도 파악인가?"
   ]
  },
  {
   "cell_type": "code",
   "execution_count": 815,
   "id": "split-scotland",
   "metadata": {},
   "outputs": [],
   "source": [
    "msg_prompt = {\n",
    "    'recom' : {\n",
    "                'system' : \"You are a helpful assistant who recommend movie based on user question.\", \n",
    "                'user' : \"Write 1 sentence of a simple greeting that starts with 'Of course!' to recommend movie items to users.\", \n",
    "              },\n",
    "    'desc' : {\n",
    "                'system' : \"You are a helpful assistant who kindly answers.\", \n",
    "                'user' : \"Please write a simple greeting starting with 'of course' to explain the item to the user.\", \n",
    "              },\n",
    "    'intent' : {\n",
    "                'system' : \"You are a helpful assistant who understands the intent of the user's question.\",\n",
    "                'user' : \"Which category does the sentence below belong to: 'description', 'recommended', 'search'? Show only categories. \\n context:\"\n",
    "                }\n",
    "}"
   ]
  },
  {
   "cell_type": "code",
   "execution_count": 856,
   "id": "separate-confusion",
   "metadata": {},
   "outputs": [
    {
     "data": {
      "text/plain": [
       "{'recom': {'system': 'You are a helpful assistant who recommend movie based on user question.',\n",
       "  'user': \"Write 1 sentence of a simple greeting that starts with 'Of course!' to recommend movie items to users.\"},\n",
       " 'desc': {'system': 'You are a helpful assistant who kindly answers.',\n",
       "  'user': \"Please write a simple greeting starting with 'of course' to explain the item to the user.\"},\n",
       " 'intent': {'system': \"You are a helpful assistant who understands the intent of the user's question.\",\n",
       "  'user': \"Which category does the sentence below belong to: 'description', 'recommended', 'search'? Show only categories. \\n context:\"}}"
      ]
     },
     "execution_count": 856,
     "metadata": {},
     "output_type": "execute_result"
    }
   ],
   "source": [
    "msg_prompt"
   ]
  },
  {
   "cell_type": "code",
   "execution_count": 870,
   "id": "biological-mustang",
   "metadata": {},
   "outputs": [],
   "source": [
    "user_msg_history = []"
   ]
  },
  {
   "cell_type": "code",
   "execution_count": 871,
   "id": "d8b72193",
   "metadata": {},
   "outputs": [],
   "source": [
    "def get_chatgpt_msg(msg):\n",
    "    completion = openai.ChatCompletion.create(\n",
    "                    model=\"gpt-3.5-turbo\",\n",
    "                    messages=msg\n",
    "                    )\n",
    "    return completion['choices'][0]['message']['content']"
   ]
  },
  {
   "cell_type": "code",
   "execution_count": 872,
   "id": "partial-device",
   "metadata": {},
   "outputs": [],
   "source": [
    "def set_prompt(intent, query, msg_prompt_init, model):\n",
    "    '''prompt 형태를 만들어주는 함수'''\n",
    "    m = dict()\n",
    "    # 검색 또는 추천이면\n",
    "    if ('recom' in intent) or ('search' in intent):\n",
    "        msg = msg_prompt_init['recom'] # 시스템 메세지를 가지고오고\n",
    "    # 설명문이면\n",
    "    elif 'desc' in intent:\n",
    "        msg = msg_prompt_init['desc'] # 시스템 메세지를 가지고오고\n",
    "    # intent 파악\n",
    "    else:\n",
    "        msg = msg_prompt_init['intent']\n",
    "        msg['user'] += f' {query} \\n A:'\n",
    "    for k, v in msg.items():\n",
    "        m['role'], m['content'] = k, v\n",
    "    return [m]"
   ]
  },
  {
   "cell_type": "code",
   "execution_count": 872,
   "id": "50db26ff",
   "metadata": {},
   "outputs": [],
   "source": [
    "def user_interact(query, model, msg_prompt_init):\n",
    "    # 1. 사용자의 의도를 파악\n",
    "    user_intent = set_prompt('intent', query, msg_prompt_init, None)\n",
    "    user_intent = get_chatgpt_msg(user_intent).lower()\n",
    "    print(\"user_intent : \", user_intent)\n",
    "    \n",
    "    # 2. 사용자의 쿼리에 따라 prompt 생성    \n",
    "    intent_data = set_prompt(user_intent, query, msg_prompt_init, model)\n",
    "    intent_data_msg = get_chatgpt_msg(intent_data).replace(\"\\n\", \"\").strip()\n",
    "    print(\"intent_data_msg : \", intent_data_msg)\n",
    "    \n",
    "    # 3-1. 추천 또는 검색이면\n",
    "    if ('recom' in user_intent) or ('search' in user_intent):\n",
    "        recom_msg = str()\n",
    "        # 기존에 메세지가 있으면 쿼리로 대체\n",
    "        if (len(user_msg_history) > 0 ) and (user_msg_history[-1]['role'] == 'assistant'):\n",
    "            query = user_msg_history[-1]['content']['feature']\n",
    "        # 유사 아이템 가져오기\n",
    "        #top_result = get_query_sim_top_k(query, model, movies_metadata, top_k=1 if 'recom' in user_intent else 3) # 추천 개수 설정하려면!\n",
    "        top_result = get_query_sim_top_k(query, model, movies_metadata, top_k=3)\n",
    "        #print(\"top_result : \", top_result)\n",
    "        # 검색이면, 자기 자신의 컨텐츠는 제외\n",
    "        top_index = top_result[1].numpy() if 'recom' in user_intent else top_result[1].numpy()[1:]\n",
    "        #print(\"top_index : \", top_index)\n",
    "        # 장르, 제목, overview를 가져와서 출력\n",
    "        r_set_d = movies_metadata.iloc[top_index, :][['genres', 'title', 'overview']]\n",
    "        r_set_d = json.loads(r_set_d.to_json(orient=\"records\"))\n",
    "        for r in r_set_d:\n",
    "            for _, v in r.items():\n",
    "                recom_msg += f\"{v} \\n\"\n",
    "            recom_msg += \"\\n\"\n",
    "        user_msg_history.append({'role' : 'assistant', 'content' : f\"{intent_data_msg} {str(recom_msg)}\"})\n",
    "        print(f\"\\n recom data : {intent_data_msg} {str(recom_msg)}\")\n",
    "    # 3-2. 설명이면\n",
    "    elif 'desc' in user_intent:\n",
    "        # 이전 메세지에 따라서 설명을 가져와야 하기 때문에 이전 메세지 컨텐츠를 가져옴\n",
    "        top_result = get_query_sim_top_k(user_msg_history[-1]['content'], model, movies_metadata, top_k=1)\n",
    "        # feature가 상세 설명이라고 가정하고 해당 컬럼의 값을 가져와 출력\n",
    "        r_set_d = movies_metadata.iloc[top_result[1].numpy(), :][['feature']]\n",
    "        r_set_d = json.loads(r_set_d.to_json(orient=\"records\"))[0]\n",
    "        user_msg_history.append({'role' : 'assistant', 'content' : r_set_d})\n",
    "        print(f\"\\n describe : {intent_data_msg} {r_set_d}\")"
   ]
  },
  {
   "cell_type": "markdown",
   "id": "29adeae4",
   "metadata": {},
   "source": [
    "## 위의 user_interact 함수처럼 구성하지 말고 \n"
   ]
  },
  {
   "cell_type": "code",
   "execution_count": 872,
   "id": "1cb4af5a",
   "metadata": {},
   "outputs": [],
   "source": [
    "'''\n",
    "\n",
    "import openai\n",
    "\n",
    "openai.api_key = \"YOUR_API_KEY\" # supply your API key however you choose\n",
    "\n",
    "message = {\"role\":\"user\", \"content\": input(\"This is the beginning of your chat with AI. [To exit, send \\\"###\\\".]\\n\\nYou:\")};\n",
    "\n",
    "conversation = [{\"role\": \"system\", \"content\": \"DIRECTIVE_FOR_gpt-3.5-turbo\"}]\n",
    "\n",
    "while(message[\"content\"]!=\"###\"):\n",
    "    conversation.append(message)\n",
    "    completion = openai.ChatCompletion.create(model=\"gpt-3.5-turbo\", messages=conversation) \n",
    "    message[\"content\"] = input(f\"Assistant: {completion.choices[0].message.content} \\nYou:\")\n",
    "    print()\n",
    "    conversation.append(completion.choices[0].message)\n",
    "    \n",
    "'''"
   ]
  },
  {
   "cell_type": "markdown",
   "id": "7bd5bff7",
   "metadata": {},
   "source": [
    "## 위처럼 하는 것이 깔끔할 수 있습니다."
   ]
  },
  {
   "cell_type": "code",
   "execution_count": 873,
   "id": "metric-single",
   "metadata": {},
   "outputs": [],
   "source": []
  },
  {
   "cell_type": "markdown",
   "id": "be150f32",
   "metadata": {},
   "source": [
    "## 쿼리에 따른 추천 프로세스 실행"
   ]
  },
  {
   "cell_type": "code",
   "execution_count": 874,
   "id": "modern-cover",
   "metadata": {},
   "outputs": [
    {
     "name": "stdout",
     "output_type": "stream",
     "text": [
      "user_intent :  recommended\n",
      "intent_data_msg :  Of course! Here are some top-rated movie items that you might enjoy.\n",
      "\n",
      " recom data : Of course! Here are some top-rated movie items that you might enjoy. \n",
      "\n",
      "X-Men \n",
      "Two mutants, Rogue and Wolverine, come to a private academy for their kind whose resident superhero team, the X-Men, must oppose a terrorist organization with similar powers. \n",
      "\n",
      "\n"
     ]
    }
   ],
   "source": [
    "query = \"Please recommend a movie similar to a marvel heros movie.\"\n",
    "user_interact(query, model, copy.deepcopy(msg_prompt))"
   ]
  },
  {
   "cell_type": "code",
   "execution_count": 876,
   "id": "mathematical-gabriel",
   "metadata": {},
   "outputs": [
    {
     "name": "stdout",
     "output_type": "stream",
     "text": [
      "user_intent :  description\n",
      "intent_data_msg :  Of course! Let me explain what this item is and how it works.\n",
      "\n",
      " describe : Of course! Let me explain what this item is and how it works. {'feature': 'Adventure Action Science Fiction / X-Men / Two mutants, Rogue and Wolverine, come to a private academy for their kind whose resident superhero team, the X-Men, must oppose a terrorist organization with similar powers.'}\n"
     ]
    }
   ],
   "source": [
    "query = \"Can you describe on the above?\"\n",
    "user_interact(query, model, copy.deepcopy(msg_prompt))"
   ]
  },
  {
   "cell_type": "code",
   "execution_count": 877,
   "id": "515afec7",
   "metadata": {},
   "outputs": [
    {
     "data": {
      "text/plain": [
       "[{'role': 'assistant',\n",
       "  'content': 'Of course! Here are some top-rated movie items that you might enjoy. \\n\\nX-Men \\nTwo mutants, Rogue and Wolverine, come to a private academy for their kind whose resident superhero team, the X-Men, must oppose a terrorist organization with similar powers. \\n\\n'},\n",
       " {'role': 'assistant',\n",
       "  'content': {'feature': 'Adventure Action Science Fiction / X-Men / Two mutants, Rogue and Wolverine, come to a private academy for their kind whose resident superhero team, the X-Men, must oppose a terrorist organization with similar powers.'}}]"
      ]
     },
     "execution_count": 877,
     "metadata": {},
     "output_type": "execute_result"
    }
   ],
   "source": [
    "user_msg_history"
   ]
  },
  {
   "cell_type": "code",
   "execution_count": 878,
   "id": "978cee80",
   "metadata": {},
   "outputs": [
    {
     "name": "stdout",
     "output_type": "stream",
     "text": [
      "user_intent :  'search'\n",
      "intent_data_msg :  Of course! We have a great selection of movie items that will fit your every need.\n",
      "\n",
      " recom data : Of course! We have a great selection of movie items that will fit your every need. \n",
      "X-Men: Days of Future Past \n",
      "The ultimate X-Men ensemble fights a war for the survival of the species across two time periods as they join forces with their younger selves in an epic battle that must change the past – to save our future. \n",
      "\n",
      "\n"
     ]
    }
   ],
   "source": [
    "query = \"Are there other movies that are similar to the ones above?\"\n",
    "user_interact(query, model, copy.deepcopy(msg_prompt))"
   ]
  },
  {
   "cell_type": "code",
   "execution_count": null,
   "id": "e2d7275c",
   "metadata": {},
   "outputs": [],
   "source": []
  },
  {
   "cell_type": "markdown",
   "id": "e74f1f6a",
   "metadata": {},
   "source": [
    "# 사용자 태그"
   ]
  },
  {
   "cell_type": "code",
   "execution_count": 717,
   "id": "f3bdc6a2",
   "metadata": {},
   "outputs": [],
   "source": [
    "user_perfer_tag = ['computer','tech','science']"
   ]
  },
  {
   "cell_type": "code",
   "execution_count": 718,
   "id": "76d26f79",
   "metadata": {},
   "outputs": [],
   "source": [
    "top_result = get_query_sim_top_k(' '.join(user_perfer_tag), model, movies_metadata, top_k=3 )"
   ]
  },
  {
   "cell_type": "code",
   "execution_count": 719,
   "id": "e3f79117",
   "metadata": {},
   "outputs": [
    {
     "data": {
      "text/html": [
       "<div>\n",
       "<style scoped>\n",
       "    .dataframe tbody tr th:only-of-type {\n",
       "        vertical-align: middle;\n",
       "    }\n",
       "\n",
       "    .dataframe tbody tr th {\n",
       "        vertical-align: top;\n",
       "    }\n",
       "\n",
       "    .dataframe thead th {\n",
       "        text-align: right;\n",
       "    }\n",
       "</style>\n",
       "<table border=\"1\" class=\"dataframe\">\n",
       "  <thead>\n",
       "    <tr style=\"text-align: right;\">\n",
       "      <th></th>\n",
       "      <th>title</th>\n",
       "      <th>genres</th>\n",
       "      <th>overview</th>\n",
       "    </tr>\n",
       "  </thead>\n",
       "  <tbody>\n",
       "    <tr>\n",
       "      <th>23040</th>\n",
       "      <td>Transcendence</td>\n",
       "      <td>Thriller Science Fiction Drama</td>\n",
       "      <td>Two leading computer scientists work toward th...</td>\n",
       "    </tr>\n",
       "    <tr>\n",
       "      <th>30222</th>\n",
       "      <td>Debug</td>\n",
       "      <td>Horror Science Fiction</td>\n",
       "      <td>Six young computer hackers sent to work on a d...</td>\n",
       "    </tr>\n",
       "    <tr>\n",
       "      <th>996</th>\n",
       "      <td>The Lawnmower Man</td>\n",
       "      <td>Horror Thriller Science Fiction</td>\n",
       "      <td>A simple man is turned into a genius through t...</td>\n",
       "    </tr>\n",
       "  </tbody>\n",
       "</table>\n",
       "</div>"
      ],
      "text/plain": [
       "                   title                           genres  \\\n",
       "23040      Transcendence   Thriller Science Fiction Drama   \n",
       "30222              Debug           Horror Science Fiction   \n",
       "996    The Lawnmower Man  Horror Thriller Science Fiction   \n",
       "\n",
       "                                                overview  \n",
       "23040  Two leading computer scientists work toward th...  \n",
       "30222  Six young computer hackers sent to work on a d...  \n",
       "996    A simple man is turned into a genius through t...  "
      ]
     },
     "execution_count": 719,
     "metadata": {},
     "output_type": "execute_result"
    }
   ],
   "source": [
    "movies_metadata.iloc[top_result[1].numpy(), :][['title', 'genres', 'overview']]"
   ]
  },
  {
   "cell_type": "code",
   "execution_count": null,
   "id": "00320379",
   "metadata": {},
   "outputs": [],
   "source": []
  },
  {
   "cell_type": "code",
   "execution_count": null,
   "id": "4f9e9d6b",
   "metadata": {},
   "outputs": [],
   "source": []
  },
  {
   "cell_type": "code",
   "execution_count": 723,
   "id": "6c0e88fa",
   "metadata": {},
   "outputs": [
    {
     "data": {
      "text/html": [
       "<div>\n",
       "<style scoped>\n",
       "    .dataframe tbody tr th:only-of-type {\n",
       "        vertical-align: middle;\n",
       "    }\n",
       "\n",
       "    .dataframe tbody tr th {\n",
       "        vertical-align: top;\n",
       "    }\n",
       "\n",
       "    .dataframe thead th {\n",
       "        text-align: right;\n",
       "    }\n",
       "</style>\n",
       "<table border=\"1\" class=\"dataframe\">\n",
       "  <thead>\n",
       "    <tr style=\"text-align: right;\">\n",
       "      <th></th>\n",
       "      <th>id</th>\n",
       "      <th>genres</th>\n",
       "      <th>title</th>\n",
       "      <th>overview</th>\n",
       "      <th>release_date</th>\n",
       "      <th>feature</th>\n",
       "      <th>text_len</th>\n",
       "      <th>feature_len</th>\n",
       "      <th>hf_embeddings</th>\n",
       "    </tr>\n",
       "  </thead>\n",
       "  <tbody>\n",
       "    <tr>\n",
       "      <th>23165</th>\n",
       "      <td>127585</td>\n",
       "      <td>Action Adventure Fantasy</td>\n",
       "      <td>X-Men: Days of Future Past</td>\n",
       "      <td>The ultimate X-Men ensemble fights a war for t...</td>\n",
       "      <td>2014-05-15</td>\n",
       "      <td>Action Adventure Fantasy / X-Men: Days of Futu...</td>\n",
       "      <td>208</td>\n",
       "      <td>264</td>\n",
       "      <td>[-0.047461677, 0.002811962, -0.010485606, -0.0...</td>\n",
       "    </tr>\n",
       "  </tbody>\n",
       "</table>\n",
       "</div>"
      ],
      "text/plain": [
       "           id                    genres                       title  \\\n",
       "23165  127585  Action Adventure Fantasy  X-Men: Days of Future Past   \n",
       "\n",
       "                                                overview release_date  \\\n",
       "23165  The ultimate X-Men ensemble fights a war for t...   2014-05-15   \n",
       "\n",
       "                                                 feature  text_len  \\\n",
       "23165  Action Adventure Fantasy / X-Men: Days of Futu...       208   \n",
       "\n",
       "       feature_len                                      hf_embeddings  \n",
       "23165          264  [-0.047461677, 0.002811962, -0.010485606, -0.0...  "
      ]
     },
     "execution_count": 723,
     "metadata": {},
     "output_type": "execute_result"
    }
   ],
   "source": [
    "movies_metadata[movies_metadata['title'] == 'X-Men: Days of Future Past']"
   ]
  },
  {
   "cell_type": "code",
   "execution_count": null,
   "id": "05b01f55",
   "metadata": {},
   "outputs": [],
   "source": []
  },
  {
   "cell_type": "code",
   "execution_count": null,
   "id": "422c3155",
   "metadata": {},
   "outputs": [],
   "source": []
  }
 ],
 "metadata": {
  "kernelspec": {
   "display_name": "Python 3 (ipykernel)",
   "language": "python",
   "name": "python3"
  },
  "language_info": {
   "codemirror_mode": {
    "name": "ipython",
    "version": 3
   },
   "file_extension": ".py",
   "mimetype": "text/x-python",
   "name": "python",
   "nbconvert_exporter": "python",
   "pygments_lexer": "ipython3",
   "version": "3.8.16"
  }
 },
 "nbformat": 4,
 "nbformat_minor": 5
}
